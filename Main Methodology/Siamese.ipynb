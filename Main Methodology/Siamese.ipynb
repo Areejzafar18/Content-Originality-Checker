{
  "cells": [
    {
      "cell_type": "code",
      "execution_count": null,
      "metadata": {
        "id": "XN6RaDiorWtI"
      },
      "outputs": [],
      "source": [
        "import numpy as np\n",
        "import pandas as pd\n",
        "import tensorflow as tf\n",
        "\n",
        "from sklearn.feature_extraction.text import TfidfVectorizer"
      ]
    },
    {
      "cell_type": "code",
      "execution_count": null,
      "metadata": {
        "id": "Jqa1tqg7V00n"
      },
      "outputs": [],
      "source": [
        "from google.colab import drive\n",
        "drive.mount('/content/drive')"
      ]
    },
    {
      "cell_type": "code",
      "execution_count": null,
      "metadata": {
        "id": "c3ilgaao-lUE"
      },
      "outputs": [],
      "source": [
        "import os\n",
        " \n",
        "docs=[]\n",
        "docs_names=[]\n",
        "\n",
        "path=\"/content/drive/MyDrive/FYP/Text_Files\"\n",
        "dir_list = os.listdir(path)\n",
        "print(dir_list)\n",
        "\n",
        "for f in dir_list:\n",
        "  with open(path+\"/\"+f, \"r\", encoding='Windows-1252') as file:\n",
        "    data = file.read()\n",
        "  data = data.replace(\"\\n\",\" \")\n",
        "  docs.append(data)\n",
        "  docs_names.append(f)\n",
        "  #print(f)"
      ]
    },
    {
      "cell_type": "code",
      "execution_count": null,
      "metadata": {
        "id": "RtwZDi-CEf3y"
      },
      "outputs": [],
      "source": [
        "vectorizer = TfidfVectorizer()\n",
        "\n",
        "X = vectorizer.fit_transform(docs)\n",
        "\n",
        "print(X.shape)"
      ]
    },
    {
      "cell_type": "code",
      "execution_count": null,
      "metadata": {
        "id": "D3FtFt_oxdNU"
      },
      "outputs": [],
      "source": [
        "df = pd.read_csv ('/content/drive/MyDrive/FYP/dataset.csv')"
      ]
    },
    {
      "cell_type": "code",
      "execution_count": null,
      "metadata": {
        "id": "BwttTPYN9a9o"
      },
      "outputs": [],
      "source": [
        "df"
      ]
    },
    {
      "cell_type": "code",
      "execution_count": null,
      "metadata": {
        "id": "IZKHVQZdIlFN"
      },
      "outputs": [],
      "source": [
        "from scipy.sparse import csr_matrix\n",
        "\n",
        "S = csr_matrix(X)\n",
        "\n",
        "# reconstruct dense matrix\n",
        "Z = S.todense()"
      ]
    },
    {
      "cell_type": "code",
      "execution_count": null,
      "metadata": {
        "id": "F7VpobdCwgSW"
      },
      "outputs": [],
      "source": [
        "Z[99].shape"
      ]
    },
    {
      "cell_type": "code",
      "execution_count": null,
      "metadata": {
        "id": "Br7YCZAt-5nb"
      },
      "outputs": [],
      "source": [
        "from keras.models import load_model\n",
        "model = load_model('/content/drive/MyDrive/FYP/saved_model/autoencoder.h5')"
      ]
    },
    {
      "cell_type": "code",
      "source": [
        "import keras\n",
        "from keras.layers import Dense,Conv1D,UpSampling1D,MaxPooling1D\n",
        "from keras.models import sequential\n",
        "from keras import *"
      ],
      "metadata": {
        "id": "AiKavs7CaEbF"
      },
      "execution_count": null,
      "outputs": []
    },
    {
      "cell_type": "code",
      "execution_count": null,
      "metadata": {
        "id": "ZgCg8NI42r3v"
      },
      "outputs": [],
      "source": [
        "from tensorflow.keras.utils import plot_model\n",
        "\n",
        "# define an encoder model (without the decoder)\n",
        "encoder = Model(inputs=model.input, outputs=model.layers[-9].output)\n",
        "#plot_model(encoder, 'encoder_no_compress.png', show_shapes=True)\n"
      ]
    },
    {
      "cell_type": "code",
      "execution_count": null,
      "metadata": {
        "id": "2CzUw2QCSk2n"
      },
      "outputs": [],
      "source": [
        "compress = []\n",
        "for i in range(len(Z)) :\n",
        "  a = (encoder.predict(Z[i]).flatten())\n",
        "  compress.append(a)"
      ]
    },
    {
      "cell_type": "code",
      "execution_count": null,
      "metadata": {
        "id": "CSrFmByNA3f3"
      },
      "outputs": [],
      "source": [
        "len(compress[0])"
      ]
    },
    {
      "cell_type": "code",
      "execution_count": null,
      "metadata": {
        "id": "O7dh63jSGIAI"
      },
      "outputs": [],
      "source": [
        "print(np.array(compress[0]))"
      ]
    },
    {
      "cell_type": "code",
      "execution_count": null,
      "metadata": {
        "id": "d6rh4malU0LB"
      },
      "outputs": [],
      "source": [
        "doc1 = []\n",
        "\n",
        "for i in range(len(df)) :\n",
        "  a = docs_names.index(df.iloc[i,0])\n",
        "  doc1.append(compress[a])\n",
        "\n",
        "df['doc1'] = doc1"
      ]
    },
    {
      "cell_type": "code",
      "execution_count": null,
      "metadata": {
        "id": "qZrwurY1hLFX"
      },
      "outputs": [],
      "source": [
        "doc2 = []\n",
        "\n",
        "for i in range(len(df)) :\n",
        "  a = docs_names.index(df.iloc[i,1])\n",
        "  doc2.append(compress[a])\n",
        "\n",
        "df['doc2'] = doc2"
      ]
    },
    {
      "cell_type": "code",
      "execution_count": null,
      "metadata": {
        "id": "8uatHu1BiKX_"
      },
      "outputs": [],
      "source": [
        "df.head()"
      ]
    },
    {
      "cell_type": "code",
      "source": [
        "doc1= df['doc1']"
      ],
      "metadata": {
        "id": "nH9DhdYJiZbI"
      },
      "execution_count": null,
      "outputs": []
    },
    {
      "cell_type": "code",
      "source": [
        "doc2= df['doc2']"
      ],
      "metadata": {
        "id": "t4RewqcmjTE2"
      },
      "execution_count": null,
      "outputs": []
    },
    {
      "cell_type": "code",
      "source": [
        "label = df['Average']"
      ],
      "metadata": {
        "id": "1rCvZBdJjdEl"
      },
      "execution_count": null,
      "outputs": []
    },
    {
      "cell_type": "code",
      "source": [
        "doc1= tf.convert_to_tensor(doc1)"
      ],
      "metadata": {
        "id": "Em6vrGzluiAX"
      },
      "execution_count": null,
      "outputs": []
    },
    {
      "cell_type": "code",
      "source": [
        "doc2= tf.convert_to_tensor(doc2)"
      ],
      "metadata": {
        "id": "ORzpV56z2yit"
      },
      "execution_count": null,
      "outputs": []
    },
    {
      "cell_type": "code",
      "source": [
        "from keras.layers import Concatenate\n",
        "\n",
        "input1 = Input(shape=(3930,))\n",
        "input2 = Input(shape=(3930,))\n",
        "input = Concatenate()([input1, input2])\n",
        "x = Dense(256)(input)\n",
        "x = Dense(128)(input)\n",
        "x = Dense(128)(input)\n",
        "x = Dense(1)(x)\n",
        "model1 = Model(inputs=[input1, input2], outputs=x)\n",
        "model1.summary()"
      ],
      "metadata": {
        "id": "-K6_efnQOISJ"
      },
      "execution_count": null,
      "outputs": []
    },
    {
      "cell_type": "code",
      "source": [
        "opt = tf.keras.optimizers.Adam(learning_rate=0.0001)\n",
        "model1.compile(loss= 'mse', metrics=[\"mse\"], optimizer=opt)\n",
        "model1.fit([doc1 , doc2], label , epochs = 10, batch_size = 2)"
      ],
      "metadata": {
        "id": "4m4OhnPMUe1Z"
      },
      "execution_count": null,
      "outputs": []
    },
    {
      "cell_type": "code",
      "source": [
        "from tensorflow.keras.models import load_model\n",
        "\n",
        "model1.save('/content/drive/MyDrive/FYP/saved_model/siamesemodel.h5')"
      ],
      "metadata": {
        "id": "Lxj3lpTbJ3cL"
      },
      "execution_count": null,
      "outputs": []
    }
  ],
  "metadata": {
    "colab": {
      "collapsed_sections": [],
      "name": "Siamese.ipynb",
      "provenance": []
    },
    "kernelspec": {
      "display_name": "Python 3",
      "name": "python3"
    },
    "language_info": {
      "name": "python"
    }
  },
  "nbformat": 4,
  "nbformat_minor": 0
}