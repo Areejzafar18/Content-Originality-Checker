{
  "cells": [
    {
      "cell_type": "code",
      "execution_count": null,
      "metadata": {
        "id": "XN6RaDiorWtI",
        "colab": {
          "base_uri": "https://localhost:8080/"
        },
        "outputId": "ead1857a-9263-43a6-fbf1-43044f51f31b"
      },
      "outputs": [
        {
          "output_type": "stream",
          "name": "stdout",
          "text": [
            "[nltk_data] Downloading package punkt to /root/nltk_data...\n",
            "[nltk_data]   Package punkt is already up-to-date!\n",
            "[nltk_data] Downloading package stopwords to /root/nltk_data...\n",
            "[nltk_data]   Package stopwords is already up-to-date!\n",
            "[nltk_data] Downloading package wordnet to /root/nltk_data...\n",
            "[nltk_data]   Package wordnet is already up-to-date!\n"
          ]
        }
      ],
      "source": [
        "import numpy as np\n",
        "\n",
        "from sklearn.feature_extraction.text import TfidfVectorizer\n",
        "from sklearn.feature_extraction.text import CountVectorizer\n",
        "from sklearn.metrics.pairwise import cosine_similarity\n",
        "from sklearn.metrics.pairwise import euclidean_distances\n",
        "\n",
        "import re\n",
        "import nltk\n",
        "import string\n",
        "from nltk.corpus import stopwords\n",
        "from nltk.tokenize import word_tokenize\n",
        "nltk.download('punkt')\n",
        "nltk.download('stopwords')\n",
        "nltk.download('wordnet')\n",
        "from nltk.corpus import stopwords\n",
        "from nltk.stem import WordNetLemmatizer\n",
        "from nltk.stem import PorterStemmer"
      ]
    },
    {
      "cell_type": "code",
      "execution_count": null,
      "metadata": {
        "colab": {
          "base_uri": "https://localhost:8080/"
        },
        "id": "Jqa1tqg7V00n",
        "outputId": "9a42b3a4-6653-4df1-c4ec-0184437e5137"
      },
      "outputs": [
        {
          "output_type": "stream",
          "name": "stdout",
          "text": [
            "Mounted at /content/drive\n"
          ]
        }
      ],
      "source": [
        "from google.colab import drive\n",
        "drive.mount('/content/drive')"
      ]
    },
    {
      "cell_type": "code",
      "execution_count": null,
      "metadata": {
        "colab": {
          "base_uri": "https://localhost:8080/"
        },
        "id": "c3ilgaao-lUE",
        "outputId": "8d2ca414-9ecb-44a6-95f8-97020cf884f4"
      },
      "outputs": [
        {
          "output_type": "stream",
          "name": "stdout",
          "text": [
            "['A00-1000.pdf.txt', 'A00-1001.pdf.txt', 'A00-1002.pdf.txt', 'A00-1003.pdf.txt', 'A00-1004.pdf.txt', 'A00-1006.pdf.txt', 'A00-1005.pdf.txt', 'A00-1007.pdf.txt', 'A00-1008.pdf.txt', 'A00-1009.pdf.txt', 'A83-1018.pdf.txt', 'A83-1017.pdf.txt', 'A83-1019.pdf.txt', 'A83-1016.pdf.txt', 'A83-1020.pdf.txt', 'A83-1021.pdf.txt', 'A83-1033.pdf.txt', 'A88-1000.pdf.txt', 'A83-1032.pdf.txt', 'A88-1003.pdf.txt', 'A88-1002.pdf.txt', 'A88-1001.pdf.txt', 'A88-1004.pdf.txt', 'A88-1005.pdf.txt', 'A88-1006.pdf.txt', 'A88-1023.pdf.txt', 'A88-1025.pdf.txt', 'A88-1024.pdf.txt', 'A88-1021.pdf.txt', 'A88-1022.pdf.txt', 'A88-1026.pdf.txt', 'A88-1028.pdf.txt', 'A88-1027.pdf.txt', 'A92-1005.pdf.txt', 'A92-1004.pdf.txt', 'A92-1030.pdf.txt', 'A92-1031.pdf.txt', 'A92-1034.pdf.txt', 'A92-1036.pdf.txt', 'A92-1033.pdf.txt', 'A92-1032.pdf.txt', 'A92-1035.pdf.txt', 'A92-1043.pdf.txt', 'A94-1000.pdf.txt', 'A92-1038.pdf.txt', 'A92-1037.pdf.txt', 'A92-1044.pdf.txt', 'A92-1040.pdf.txt', 'A92-1041.pdf.txt', 'A92-1047.pdf.txt', 'A92-1046.pdf.txt', 'A92-1039.pdf.txt', 'A92-1042.pdf.txt', 'A92-1045.pdf.txt', 'A94-1003.pdf.txt', 'A94-1001.pdf.txt', 'A94-1002.pdf.txt', 'A94-1004.pdf.txt', 'A94-1005.pdf.txt', 'A94-1007.pdf.txt', 'A94-1006.pdf.txt', 'A94-1008.pdf.txt', 'A94-1009.pdf.txt', 'A94-1018.pdf.txt', 'A94-1019.pdf.txt', 'A94-1044.pdf.txt', 'A94-1040.pdf.txt', 'A94-1035.pdf.txt', 'A94-1037.pdf.txt', 'A94-1038.pdf.txt', 'A94-1042.pdf.txt', 'A94-1043.pdf.txt', 'A94-1036.pdf.txt', 'A94-1039.pdf.txt', 'A94-1041.pdf.txt', 'A94-1045.pdf.txt', 'A97-1046.pdf.txt', 'A97-1047.pdf.txt', 'A97-1048.pdf.txt', 'A97-1049.pdf.txt', 'D08-1034.pdf.txt', 'D08-1036.pdf.txt', 'D08-1035.pdf.txt', 'D08-1037.pdf.txt', 'D08-1039.pdf.txt', 'D08-1038.pdf.txt', 'D08-1040.pdf.txt', 'D08-1041.pdf.txt', 'D08-1042.pdf.txt', 'D08-1060.pdf.txt', 'D08-1072.pdf.txt', 'D08-1075.pdf.txt', 'D08-1073.pdf.txt', 'D08-1074.pdf.txt', 'D08-1077.pdf.txt', 'D08-1076.pdf.txt', 'D08-1079.pdf.txt', 'D08-1078.pdf.txt', 'D08-1080.pdf.txt', 'D08-1082.pdf.txt', 'D08-1081.pdf.txt', 'D08-1083.pdf.txt', 'D08-1085.pdf.txt', 'D08-1087.pdf.txt', 'D08-1084.pdf.txt', 'D08-1086.pdf.txt', 'D08-1090.pdf.txt', 'D08-1091.pdf.txt', 'D08-1089.pdf.txt', 'D08-1088.pdf.txt', 'D08-1094.pdf.txt', 'D08-1092.pdf.txt', 'D08-1093.pdf.txt', 'D08-1095.pdf.txt', 'D08-1097.pdf.txt', 'D08-1096.pdf.txt', 'D08-1098.pdf.txt', 'D08-1103.pdf.txt', 'D08-1102.pdf.txt', 'D08-1100.pdf.txt', 'D08-1099.pdf.txt', 'D08-1101.pdf.txt', 'D08-1105.pdf.txt', 'D08-1104.pdf.txt', 'D09-1004.pdf.txt', 'D09-1006.pdf.txt', 'D09-1005.pdf.txt', 'D09-1003.pdf.txt', 'D09-1008.pdf.txt', 'D09-1007.pdf.txt', 'D09-1011.pdf.txt', 'D09-1010.pdf.txt', 'D09-1009.pdf.txt', 'D09-1012.pdf.txt', 'D09-1015.pdf.txt', 'D09-1013.pdf.txt', 'D09-1014.pdf.txt', 'D09-1016.pdf.txt', 'D09-1028.pdf.txt', 'D09-1030.pdf.txt', 'D09-1029.pdf.txt', 'D09-1031.pdf.txt', 'D09-1032.pdf.txt', 'D09-1033.pdf.txt', 'D09-1034.pdf.txt', 'D09-1060.pdf.txt', 'D09-1059.pdf.txt', 'D09-1057.pdf.txt', 'D09-1058.pdf.txt', 'D09-1061.pdf.txt', 'D09-1062.pdf.txt', 'D09-1063.pdf.txt', 'D09-1065.pdf.txt', 'D09-1064.pdf.txt', 'D09-1068.pdf.txt', 'D09-1066.pdf.txt', 'D09-1067.pdf.txt', 'D09-1070.pdf.txt', 'D09-1071.pdf.txt', 'D09-1069.pdf.txt', 'D09-1072.pdf.txt', 'D09-1073.pdf.txt', 'D09-1074.pdf.txt', 'D09-1077.pdf.txt', 'D09-1075.pdf.txt', 'D09-1076.pdf.txt', 'D09-1079.pdf.txt', 'D09-1080.pdf.txt', 'D09-1078.pdf.txt', 'D09-1081.pdf.txt', 'D09-1082.pdf.txt', 'D09-1083.pdf.txt', 'D09-1084.pdf.txt', 'D09-1085.pdf.txt', 'D09-1087.pdf.txt', 'D09-1088.pdf.txt', 'D09-1086.pdf.txt', 'D09-1089.pdf.txt', 'D09-1091.pdf.txt', 'D09-1090.pdf.txt', 'D09-1092.pdf.txt', 'D09-1093.pdf.txt', 'D09-1096.pdf.txt', 'D09-1095.pdf.txt', 'D09-1094.pdf.txt', 'D09-1098.pdf.txt', 'D09-1097.pdf.txt', 'D09-1100.pdf.txt', 'D09-1099.pdf.txt', 'D09-1101.pdf.txt', 'D09-1103.pdf.txt', 'D09-1102.pdf.txt', 'D09-1105.pdf.txt', 'D09-1106.pdf.txt', 'D09-1104.pdf.txt', 'D09-1107.pdf.txt', 'D09-1109.pdf.txt', 'D09-1108.pdf.txt', 'D09-1111.pdf.txt', 'D09-1110.pdf.txt', 'D09-1112.pdf.txt', 'D09-1114.pdf.txt', 'D09-1113.pdf.txt', 'D09-1116.pdf.txt', 'D09-1117.pdf.txt', 'D09-1115.pdf.txt', 'D09-1120.pdf.txt', 'D09-1119.pdf.txt', 'D09-1118.pdf.txt', 'D09-1122.pdf.txt', 'D09-1121.pdf.txt', 'D09-1123.pdf.txt', 'D09-1126.pdf.txt', 'D09-1124.pdf.txt', 'D09-1125.pdf.txt', 'D09-1129.pdf.txt', 'D09-1128.pdf.txt', 'D09-1127.pdf.txt', 'D09-1130.pdf.txt', 'D09-1131.pdf.txt', 'D09-1134.pdf.txt', 'D09-1133.pdf.txt', 'D09-1132.pdf.txt', 'D09-1136.pdf.txt', 'D09-1135.pdf.txt', 'D09-1137.pdf.txt', 'D09-1139.pdf.txt', 'D09-1140.pdf.txt', 'D09-1138.pdf.txt', 'D09-1142.pdf.txt', 'D09-1141.pdf.txt', 'D09-1143.pdf.txt', 'D09-1144.pdf.txt', 'D09-1145.pdf.txt', 'D09-1146.pdf.txt', 'D09-1149.pdf.txt', 'D09-1147.pdf.txt', 'D09-1148.pdf.txt', 'D09-1151.pdf.txt', 'D09-1150.pdf.txt', 'D09-1153.pdf.txt', 'D09-1152.pdf.txt', 'D09-1154.pdf.txt', 'D09-1156.pdf.txt', 'D09-1155.pdf.txt', 'D09-1157.pdf.txt', 'D09-1158.pdf.txt', 'D09-1161.pdf.txt', 'D09-1160.pdf.txt', 'D09-1159.pdf.txt', 'D09-1163.pdf.txt', 'D11-1000.pdf.txt', 'D09-1162.pdf.txt', 'D11-1003.pdf.txt', 'D11-1001.pdf.txt', 'D11-1002.pdf.txt', 'D11-1006.pdf.txt', 'D11-1004.pdf.txt', 'D11-1005.pdf.txt', 'D11-1008.pdf.txt', 'D11-1007.pdf.txt', 'D11-1009.pdf.txt', 'D11-1010.pdf.txt', 'D11-1011.pdf.txt', 'D11-1012.pdf.txt', 'D11-1014.pdf.txt', 'D11-1013.pdf.txt', 'D11-1015.pdf.txt', 'D11-1075.pdf.txt', 'D11-1078.pdf.txt', 'D11-1077.pdf.txt', 'D11-1076.pdf.txt', 'D11-1079.pdf.txt', 'D11-1080.pdf.txt', 'D11-1081.pdf.txt', 'D11-1083.pdf.txt', 'D11-1082.pdf.txt', 'D11-1084.pdf.txt', 'D11-1086.pdf.txt', 'D11-1085.pdf.txt', 'D11-1087.pdf.txt', 'D11-1088.pdf.txt', 'D11-1091.pdf.txt', 'D11-1090.pdf.txt', 'D11-1089.pdf.txt', 'D11-1092.pdf.txt', 'D11-1093.pdf.txt', 'D11-1095.pdf.txt', 'D11-1094.pdf.txt', 'D11-1097.pdf.txt', 'D11-1096.pdf.txt', 'D11-1099.pdf.txt', 'D11-1098.pdf.txt', 'D11-1100.pdf.txt', 'D11-1101.pdf.txt', 'D11-1103.pdf.txt', 'D11-1102.pdf.txt', 'D11-1105.pdf.txt', 'D11-1104.pdf.txt', 'D11-1107.pdf.txt', 'D11-1106.pdf.txt', 'D11-1108.pdf.txt', 'D11-1110.pdf.txt', 'D11-1109.pdf.txt', 'D11-1112.pdf.txt', 'D11-1111.pdf.txt', 'D11-1113.pdf.txt', 'D11-1115.pdf.txt', 'D11-1114.pdf.txt', 'D11-1116.pdf.txt', 'D11-1117.pdf.txt', 'D11-1119.pdf.txt', 'D11-1118.pdf.txt', 'D11-1120.pdf.txt', 'D11-1121.pdf.txt', 'D11-1122.pdf.txt', 'D11-1125.pdf.txt', 'D11-1126.pdf.txt', 'D11-1123.pdf.txt', 'D11-1124.pdf.txt', 'D11-1129.pdf.txt', 'D11-1128.pdf.txt', 'D11-1127.pdf.txt', 'D11-1130.pdf.txt', 'D11-1132.pdf.txt', 'D11-1131.pdf.txt', 'D11-1134.pdf.txt', 'D11-1133.pdf.txt', 'D11-1136.pdf.txt', 'D11-1135.pdf.txt', 'D11-1138.pdf.txt', 'D11-1137.pdf.txt', 'D11-1139.pdf.txt', 'D11-1141.pdf.txt', 'D11-1142.pdf.txt', 'D11-1140.pdf.txt', 'D11-1144.pdf.txt', 'D11-1143.pdf.txt', 'D11-1145.pdf.txt', 'D11-1147.pdf.txt', 'D11-1146.pdf.txt', 'D11-1148.pdf.txt', 'D11-1149.pdf.txt', 'D12-1001.pdf.txt', 'D12-1002.pdf.txt', 'D12-1004.pdf.txt', 'D12-1003.pdf.txt', 'D12-1006.pdf.txt', 'D12-1007.pdf.txt', 'D12-1005.pdf.txt', 'D12-1009.pdf.txt', 'D12-1010.pdf.txt', 'D12-1008.pdf.txt', 'D12-1012.pdf.txt', 'D12-1011.pdf.txt', 'D12-1015.pdf.txt', 'D12-1013.pdf.txt', 'D12-1016.pdf.txt', 'D12-1014.pdf.txt', 'D12-1018.pdf.txt', 'D12-1017.pdf.txt', 'D12-1019.pdf.txt', 'D12-1020.pdf.txt', 'D12-1021.pdf.txt', 'D12-1022.pdf.txt', 'D12-1023.pdf.txt', 'D12-1024.pdf.txt', 'D12-1027.pdf.txt', 'D12-1026.pdf.txt', 'D12-1025.pdf.txt', 'D12-1030.pdf.txt', 'D12-1028.pdf.txt', 'D12-1029.pdf.txt', 'D12-1032.pdf.txt', 'D12-1032v2.pdf.txt', 'D12-1031.pdf.txt', 'D12-1034.pdf.txt', 'D12-1035.pdf.txt', 'D12-1033.pdf.txt', 'D12-1037.pdf.txt', 'D12-1036.pdf.txt', 'D12-1040.pdf.txt', 'D12-1038.pdf.txt', 'D12-1039.pdf.txt', 'D12-1041.pdf.txt', 'D12-1042.pdf.txt', 'D12-1043.pdf.txt', 'D12-1044.pdf.txt', 'D12-1046.pdf.txt', 'D12-1045.pdf.txt', 'D12-1048.pdf.txt', 'D12-1047.pdf.txt', 'D12-1050.pdf.txt', 'D12-1049.pdf.txt', 'D12-1051.pdf.txt', 'D12-1052.pdf.txt', 'D12-1054.pdf.txt', 'D12-1053.pdf.txt', 'D12-1056.pdf.txt', 'D12-1055.pdf.txt', 'D12-1057.pdf.txt', 'D12-1058.pdf.txt', 'D12-1059.pdf.txt', 'D12-1060.pdf.txt', 'D12-1062.pdf.txt', 'D12-1061.pdf.txt', 'D12-1063.pdf.txt', 'D12-1064.pdf.txt', 'D12-1065.pdf.txt', 'D12-1068.pdf.txt', 'D12-1067.pdf.txt', 'D12-1066.pdf.txt', 'D12-1070.pdf.txt', 'D12-1071.pdf.txt', 'D12-1069.pdf.txt', 'D12-1074.pdf.txt', 'D12-1073.pdf.txt', 'D12-1072.pdf.txt', 'D12-1077.pdf.txt', 'D12-1075.pdf.txt', 'D12-1076.pdf.txt', 'D12-1080.pdf.txt', 'D12-1079.pdf.txt', 'D12-1078.pdf.txt', 'D12-1081.pdf.txt', 'D12-1082.pdf.txt', 'D12-1084.pdf.txt', 'D12-1085.pdf.txt', 'D12-1083.pdf.txt', 'D12-1086.pdf.txt', 'D12-1087.pdf.txt', 'D12-1088.pdf.txt', 'D12-1089.pdf.txt', 'D12-1090.pdf.txt', 'D12-1093.pdf.txt', 'D12-1092.pdf.txt', 'D12-1091.pdf.txt', 'D12-1094.pdf.txt', 'D12-1095.pdf.txt', 'D12-1096.pdf.txt', 'D12-1098.pdf.txt', 'D12-1097.pdf.txt', 'D12-1099.pdf.txt', 'D12-1100.pdf.txt', 'D12-1102.pdf.txt', 'D12-1101.pdf.txt', 'D12-1105.pdf.txt', 'D12-1103.pdf.txt', 'D12-1104.pdf.txt', 'D12-1107.pdf.txt', 'D12-1108.pdf.txt', 'D12-1106.pdf.txt', 'D12-1109.pdf.txt', 'D12-1111.pdf.txt', 'D12-1110.pdf.txt', 'D12-1112.pdf.txt', 'D12-1113.pdf.txt', 'D12-1114.pdf.txt', 'D13-1020.pdf.txt', 'D13-1021.pdf.txt', 'D13-1023.pdf.txt', 'D13-1022.pdf.txt', 'D13-1025.pdf.txt', 'D13-1026.pdf.txt', 'D13-1024.pdf.txt', 'D13-1028.pdf.txt', 'D13-1029.pdf.txt', 'D13-1027.pdf.txt', 'D13-1032.pdf.txt', 'D13-1033.pdf.txt', 'D13-1030.pdf.txt', 'D13-1031.pdf.txt', 'D13-1034.pdf.txt', 'D13-1035.pdf.txt', 'D13-1036.pdf.txt', 'D13-1038.pdf.txt', 'D13-1039.pdf.txt', 'D13-1037.pdf.txt', 'D13-1040.pdf.txt', 'D13-1041.pdf.txt', 'D13-1042.pdf.txt', 'D13-1043.pdf.txt', 'D13-1044.pdf.txt', 'D13-1045.pdf.txt', 'D13-1046.pdf.txt', 'D13-1047.pdf.txt', 'D13-1049.pdf.txt', 'D13-1050.pdf.txt', 'D13-1048.pdf.txt', 'D13-1051.pdf.txt', 'D13-1053.pdf.txt', 'D13-1052.pdf.txt', 'D13-1054.pdf.txt', 'D13-1056.pdf.txt', 'D13-1057.pdf.txt', 'D13-1055.pdf.txt', 'D13-1058.pdf.txt', 'D13-1059.pdf.txt', 'D13-1084.pdf.txt', 'D12-1000.pdf.txt']\n"
          ]
        }
      ],
      "source": [
        "import os\n",
        " \n",
        "docs=[]\n",
        "docs_names=[]\n",
        "\n",
        "path=\"/content/drive/MyDrive/FYP/Text_Files\"\n",
        "dir_list = os.listdir(path)\n",
        "print(dir_list)\n",
        "\n",
        "for f in dir_list:\n",
        "  with open(path+\"/\"+f, \"r\", encoding='Windows-1252') as file:\n",
        "    data = file.read()\n",
        "  data = data.replace(\"\\n\",\" \")\n",
        "  docs.append(data)\n",
        "  docs_names.append(f)\n",
        "  #print(f)"
      ]
    },
    {
      "cell_type": "code",
      "execution_count": null,
      "metadata": {
        "id": "RtwZDi-CEf3y",
        "colab": {
          "base_uri": "https://localhost:8080/"
        },
        "outputId": "150ec5f1-7403-4eeb-c765-49c695c6ab6c"
      },
      "outputs": [
        {
          "output_type": "stream",
          "name": "stdout",
          "text": [
            "(500, 62880)\n"
          ]
        }
      ],
      "source": [
        "vectorizer = TfidfVectorizer()\n",
        "\n",
        "X = vectorizer.fit_transform(docs)\n",
        "\n",
        "print(X.shape)"
      ]
    },
    {
      "cell_type": "code",
      "source": [
        "lemmatizer = WordNetLemmatizer()\n",
        "\n",
        "def preprocesss(text):\n",
        "\t# Steps:\n",
        "\t# 1. lowercase\n",
        "\t# 2. Lammetize. (It does not stem. Try to preserve structure not to overwrap with potential acronym).\n",
        "\t# 3. Remove stop words.\n",
        "\t# 4. Remove punctuations.\n",
        "\t# 5. Remove character with the length size of 1.\n",
        "\n",
        "\tlowered = str.lower(text)\n",
        "\n",
        "\tstop_words = set(stopwords.words('english'))\n",
        "\tword_tokens = word_tokenize(lowered)\n",
        "\n",
        "\twords = []\n",
        "\tfor w in word_tokens:\n",
        "\t\tif w not in stop_words:\n",
        "\t\t\tif w not in string.punctuation:\n",
        "\t\t\t\tif len(w) > 1:\n",
        "\t\t\t\t\tlemmatized = lemmatizer.lemmatize(w)\n",
        "\t\t\t\t\twords.append(lemmatized)\n",
        "\n",
        "\treturn words"
      ],
      "metadata": {
        "id": "aTCXRizM3g1L"
      },
      "execution_count": null,
      "outputs": []
    },
    {
      "cell_type": "code",
      "source": [
        "def calculate_jaccard(word_tokens1, word_tokens2):\n",
        "\t# Combine both tokens to find union.\n",
        "\tboth_tokens = word_tokens1 + word_tokens2\n",
        "\tunion = set(both_tokens)\n",
        "\n",
        "\t# Calculate intersection.\n",
        "\tintersection = set()\n",
        "\tfor w in word_tokens1:\n",
        "\t\tif w in word_tokens2:\n",
        "\t\t\tintersection.add(w)\n",
        "\n",
        "\tjaccard_score = len(intersection)/len(union)\n",
        "\treturn jaccard_score"
      ],
      "metadata": {
        "id": "-pRwD9864Sp6"
      },
      "execution_count": null,
      "outputs": []
    },
    {
      "cell_type": "code",
      "source": [
        "def process_jaccard_similarity(base_doc, doc):\n",
        "  base_tokens = preprocesss(base_doc)\n",
        "  tokens = preprocesss(doc)\n",
        "  score = calculate_jaccard(base_tokens, tokens)\n",
        "  return score"
      ],
      "metadata": {
        "id": "yAyftINv77MO"
      },
      "execution_count": null,
      "outputs": []
    },
    {
      "cell_type": "code",
      "source": [
        "process_jaccard_similarity(docs[0],docs[1])"
      ],
      "metadata": {
        "colab": {
          "base_uri": "https://localhost:8080/"
        },
        "id": "chVlv77ZANS_",
        "outputId": "960d24a5-c8a4-44fa-bf5d-ca59fdb162c7"
      },
      "execution_count": null,
      "outputs": [
        {
          "output_type": "execute_result",
          "data": {
            "text/plain": [
              "0.0635410240592227"
            ]
          },
          "metadata": {},
          "execution_count": 8
        }
      ]
    },
    {
      "cell_type": "code",
      "source": [
        "def preprocess(data):\n",
        "  for i in range(len(data)):\n",
        "    str = data[i]\n",
        "\n",
        "    re.compile('<title>(.*)</title>')\n",
        "    text = re.sub(r'[^\\w ]+', \"\",str)\n",
        "    \n",
        "    text = re.sub(r\"\\b[0-9]+\\b\\s*\", \" \", text)\n",
        "\n",
        "    #remove words containing numbers\n",
        "    text=re.sub(r\"[A-Za-z]+\\d+|\\d+[A-Za-z]+\",'',text).strip()\n",
        "\n",
        "    word_tokens = word_tokenize(text)\n",
        "    \n",
        "    stop_words = stopwords.words('english')\n",
        "    stw = [w for w in word_tokens if not w in stop_words]\n",
        "\n",
        "    lemmatizer = WordNetLemmatizer()\n",
        "    lemmatized_text = \"\"\n",
        "    for word in stw:\n",
        "        word = lemmatizer.lemmatize(word)\n",
        "\n",
        "    ps = PorterStemmer()\n",
        "    stemmed_text = \"\"\n",
        "    for word in stw:\n",
        "        stemmed_text = stemmed_text + \" \" + ps.stem(word).lower()\n",
        "        \n",
        "    docs[i] = stemmed_text\n",
        "    \n",
        "preprocess(docs)"
      ],
      "metadata": {
        "id": "h3PysJJCXnv1"
      },
      "execution_count": null,
      "outputs": []
    },
    {
      "cell_type": "code",
      "execution_count": null,
      "metadata": {
        "id": "Duc-TLeQfFlu"
      },
      "outputs": [],
      "source": [
        "first = []\n",
        "sec = []\n",
        "a = 0\n",
        "b = len(docs_names)\n",
        "for x in docs_names:\n",
        "  a = a + 1\n",
        "  n = b - a\n",
        "  for i in range(n):\n",
        "    first.append(x)\n",
        "    sec.append(docs_names[i+a])"
      ]
    },
    {
      "cell_type": "code",
      "execution_count": null,
      "metadata": {
        "id": "cEvooQ4dEA_P",
        "colab": {
          "base_uri": "https://localhost:8080/",
          "height": 424
        },
        "outputId": "31fee051-28b7-42da-edfa-f511903f8552"
      },
      "outputs": [
        {
          "output_type": "execute_result",
          "data": {
            "text/plain": [
              "               First_Doc        Second_Doc\n",
              "0       A00-1000.pdf.txt  A00-1001.pdf.txt\n",
              "1       A00-1000.pdf.txt  A00-1002.pdf.txt\n",
              "2       A00-1000.pdf.txt  A00-1003.pdf.txt\n",
              "3       A00-1000.pdf.txt  A00-1004.pdf.txt\n",
              "4       A00-1000.pdf.txt  A00-1006.pdf.txt\n",
              "...                  ...               ...\n",
              "124745  D13-1058.pdf.txt  D13-1084.pdf.txt\n",
              "124746  D13-1058.pdf.txt  D12-1000.pdf.txt\n",
              "124747  D13-1059.pdf.txt  D13-1084.pdf.txt\n",
              "124748  D13-1059.pdf.txt  D12-1000.pdf.txt\n",
              "124749  D13-1084.pdf.txt  D12-1000.pdf.txt\n",
              "\n",
              "[124750 rows x 2 columns]"
            ],
            "text/html": [
              "\n",
              "  <div id=\"df-33c1af02-a483-496a-81f3-d32004d074da\">\n",
              "    <div class=\"colab-df-container\">\n",
              "      <div>\n",
              "<style scoped>\n",
              "    .dataframe tbody tr th:only-of-type {\n",
              "        vertical-align: middle;\n",
              "    }\n",
              "\n",
              "    .dataframe tbody tr th {\n",
              "        vertical-align: top;\n",
              "    }\n",
              "\n",
              "    .dataframe thead th {\n",
              "        text-align: right;\n",
              "    }\n",
              "</style>\n",
              "<table border=\"1\" class=\"dataframe\">\n",
              "  <thead>\n",
              "    <tr style=\"text-align: right;\">\n",
              "      <th></th>\n",
              "      <th>First_Doc</th>\n",
              "      <th>Second_Doc</th>\n",
              "    </tr>\n",
              "  </thead>\n",
              "  <tbody>\n",
              "    <tr>\n",
              "      <th>0</th>\n",
              "      <td>A00-1000.pdf.txt</td>\n",
              "      <td>A00-1001.pdf.txt</td>\n",
              "    </tr>\n",
              "    <tr>\n",
              "      <th>1</th>\n",
              "      <td>A00-1000.pdf.txt</td>\n",
              "      <td>A00-1002.pdf.txt</td>\n",
              "    </tr>\n",
              "    <tr>\n",
              "      <th>2</th>\n",
              "      <td>A00-1000.pdf.txt</td>\n",
              "      <td>A00-1003.pdf.txt</td>\n",
              "    </tr>\n",
              "    <tr>\n",
              "      <th>3</th>\n",
              "      <td>A00-1000.pdf.txt</td>\n",
              "      <td>A00-1004.pdf.txt</td>\n",
              "    </tr>\n",
              "    <tr>\n",
              "      <th>4</th>\n",
              "      <td>A00-1000.pdf.txt</td>\n",
              "      <td>A00-1006.pdf.txt</td>\n",
              "    </tr>\n",
              "    <tr>\n",
              "      <th>...</th>\n",
              "      <td>...</td>\n",
              "      <td>...</td>\n",
              "    </tr>\n",
              "    <tr>\n",
              "      <th>124745</th>\n",
              "      <td>D13-1058.pdf.txt</td>\n",
              "      <td>D13-1084.pdf.txt</td>\n",
              "    </tr>\n",
              "    <tr>\n",
              "      <th>124746</th>\n",
              "      <td>D13-1058.pdf.txt</td>\n",
              "      <td>D12-1000.pdf.txt</td>\n",
              "    </tr>\n",
              "    <tr>\n",
              "      <th>124747</th>\n",
              "      <td>D13-1059.pdf.txt</td>\n",
              "      <td>D13-1084.pdf.txt</td>\n",
              "    </tr>\n",
              "    <tr>\n",
              "      <th>124748</th>\n",
              "      <td>D13-1059.pdf.txt</td>\n",
              "      <td>D12-1000.pdf.txt</td>\n",
              "    </tr>\n",
              "    <tr>\n",
              "      <th>124749</th>\n",
              "      <td>D13-1084.pdf.txt</td>\n",
              "      <td>D12-1000.pdf.txt</td>\n",
              "    </tr>\n",
              "  </tbody>\n",
              "</table>\n",
              "<p>124750 rows × 2 columns</p>\n",
              "</div>\n",
              "      <button class=\"colab-df-convert\" onclick=\"convertToInteractive('df-33c1af02-a483-496a-81f3-d32004d074da')\"\n",
              "              title=\"Convert this dataframe to an interactive table.\"\n",
              "              style=\"display:none;\">\n",
              "        \n",
              "  <svg xmlns=\"http://www.w3.org/2000/svg\" height=\"24px\"viewBox=\"0 0 24 24\"\n",
              "       width=\"24px\">\n",
              "    <path d=\"M0 0h24v24H0V0z\" fill=\"none\"/>\n",
              "    <path d=\"M18.56 5.44l.94 2.06.94-2.06 2.06-.94-2.06-.94-.94-2.06-.94 2.06-2.06.94zm-11 1L8.5 8.5l.94-2.06 2.06-.94-2.06-.94L8.5 2.5l-.94 2.06-2.06.94zm10 10l.94 2.06.94-2.06 2.06-.94-2.06-.94-.94-2.06-.94 2.06-2.06.94z\"/><path d=\"M17.41 7.96l-1.37-1.37c-.4-.4-.92-.59-1.43-.59-.52 0-1.04.2-1.43.59L10.3 9.45l-7.72 7.72c-.78.78-.78 2.05 0 2.83L4 21.41c.39.39.9.59 1.41.59.51 0 1.02-.2 1.41-.59l7.78-7.78 2.81-2.81c.8-.78.8-2.07 0-2.86zM5.41 20L4 18.59l7.72-7.72 1.47 1.35L5.41 20z\"/>\n",
              "  </svg>\n",
              "      </button>\n",
              "      \n",
              "  <style>\n",
              "    .colab-df-container {\n",
              "      display:flex;\n",
              "      flex-wrap:wrap;\n",
              "      gap: 12px;\n",
              "    }\n",
              "\n",
              "    .colab-df-convert {\n",
              "      background-color: #E8F0FE;\n",
              "      border: none;\n",
              "      border-radius: 50%;\n",
              "      cursor: pointer;\n",
              "      display: none;\n",
              "      fill: #1967D2;\n",
              "      height: 32px;\n",
              "      padding: 0 0 0 0;\n",
              "      width: 32px;\n",
              "    }\n",
              "\n",
              "    .colab-df-convert:hover {\n",
              "      background-color: #E2EBFA;\n",
              "      box-shadow: 0px 1px 2px rgba(60, 64, 67, 0.3), 0px 1px 3px 1px rgba(60, 64, 67, 0.15);\n",
              "      fill: #174EA6;\n",
              "    }\n",
              "\n",
              "    [theme=dark] .colab-df-convert {\n",
              "      background-color: #3B4455;\n",
              "      fill: #D2E3FC;\n",
              "    }\n",
              "\n",
              "    [theme=dark] .colab-df-convert:hover {\n",
              "      background-color: #434B5C;\n",
              "      box-shadow: 0px 1px 3px 1px rgba(0, 0, 0, 0.15);\n",
              "      filter: drop-shadow(0px 1px 2px rgba(0, 0, 0, 0.3));\n",
              "      fill: #FFFFFF;\n",
              "    }\n",
              "  </style>\n",
              "\n",
              "      <script>\n",
              "        const buttonEl =\n",
              "          document.querySelector('#df-33c1af02-a483-496a-81f3-d32004d074da button.colab-df-convert');\n",
              "        buttonEl.style.display =\n",
              "          google.colab.kernel.accessAllowed ? 'block' : 'none';\n",
              "\n",
              "        async function convertToInteractive(key) {\n",
              "          const element = document.querySelector('#df-33c1af02-a483-496a-81f3-d32004d074da');\n",
              "          const dataTable =\n",
              "            await google.colab.kernel.invokeFunction('convertToInteractive',\n",
              "                                                     [key], {});\n",
              "          if (!dataTable) return;\n",
              "\n",
              "          const docLinkHtml = 'Like what you see? Visit the ' +\n",
              "            '<a target=\"_blank\" href=https://colab.research.google.com/notebooks/data_table.ipynb>data table notebook</a>'\n",
              "            + ' to learn more about interactive tables.';\n",
              "          element.innerHTML = '';\n",
              "          dataTable['output_type'] = 'display_data';\n",
              "          await google.colab.output.renderOutput(dataTable, element);\n",
              "          const docLink = document.createElement('div');\n",
              "          docLink.innerHTML = docLinkHtml;\n",
              "          element.appendChild(docLink);\n",
              "        }\n",
              "      </script>\n",
              "    </div>\n",
              "  </div>\n",
              "  "
            ]
          },
          "metadata": {},
          "execution_count": 47
        }
      ],
      "source": [
        "# import pandas as pd\n",
        "import pandas as pd\n",
        "\n",
        "# Calling DataFrame \n",
        "df = pd.DataFrame(list(zip(first, sec)),\n",
        "\t\t\tcolumns =['First_Doc', 'Second_Doc'])\n",
        "df\n"
      ]
    },
    {
      "cell_type": "code",
      "execution_count": null,
      "metadata": {
        "id": "bT1t1cN5sqKv"
      },
      "outputs": [],
      "source": [
        "tf_idf = []\n",
        "euclidean = []\n",
        "max= np.max((euclidean_distances(X)))\n",
        "\n",
        "for index, row in df.iterrows():\n",
        "    a=docs_names.index(row['First_Doc'])\n",
        "    b=docs_names.index(row['Second_Doc'])\n",
        "    tf_idf.append(cosine_similarity(X[a],X[b]))\n",
        "    euclidean.append(1-euclidean_distances(X[a],X[b])/max)"
      ]
    },
    {
      "cell_type": "code",
      "execution_count": null,
      "metadata": {
        "id": "5IPUJbmizMTM"
      },
      "outputs": [],
      "source": [
        "tf_idf=list(np.concatenate(tf_idf). flat)\n",
        "euclidean=list(np.concatenate(euclidean). flat)\n",
        "df['tf_idf']=tf_idf\n",
        "df['euclidean']=euclidean"
      ]
    },
    {
      "cell_type": "code",
      "source": [
        "jaccard = []\n",
        "\n",
        "for index, row in df.head(10000).iterrows():\n",
        "    a=docs_names.index(row['First_Doc'])\n",
        "    b=docs_names.index(row['Second_Doc'])\n",
        "    jaccard.append(process_jaccard_similarity(docs[a],docs[b]))"
      ],
      "metadata": {
        "id": "r2L79nFlHXbK"
      },
      "execution_count": null,
      "outputs": []
    },
    {
      "cell_type": "code",
      "source": [
        "from pandas import *\n",
        "data = read_csv(\"/content/GFG.csv\")\n",
        "data\n",
        "# converting column data to list\n",
        "jaccard = data['jaccard'].tolist()"
      ],
      "metadata": {
        "id": "GNk_LbtajEJo"
      },
      "execution_count": null,
      "outputs": []
    },
    {
      "cell_type": "code",
      "source": [
        "jaccard[41848]"
      ],
      "metadata": {
        "colab": {
          "base_uri": "https://localhost:8080/"
        },
        "id": "_ASHE-bjFJR-",
        "outputId": "096744e5-25eb-49fb-ec56-159a8b2a786a"
      },
      "execution_count": null,
      "outputs": [
        {
          "output_type": "execute_result",
          "data": {
            "text/plain": [
              "0.144067797"
            ]
          },
          "metadata": {},
          "execution_count": 51
        }
      ]
    },
    {
      "cell_type": "code",
      "source": [
        "df['jaccard']=jaccard"
      ],
      "metadata": {
        "id": "7ZUfPJULCy4X"
      },
      "execution_count": null,
      "outputs": []
    },
    {
      "cell_type": "code",
      "source": [
        "df['Average']= (df['tf_idf'] + df['euclidean'] + df['jaccard'])/3"
      ],
      "metadata": {
        "id": "VqkBi-Qu1AID"
      },
      "execution_count": null,
      "outputs": []
    },
    {
      "cell_type": "code",
      "execution_count": null,
      "metadata": {
        "id": "cj8Tr-EF0tSl",
        "colab": {
          "base_uri": "https://localhost:8080/",
          "height": 424
        },
        "outputId": "d8896b23-4c0f-4bb4-a66e-11427283d1d2"
      },
      "outputs": [
        {
          "output_type": "execute_result",
          "data": {
            "text/plain": [
              "               First_Doc        Second_Doc    tf_idf  euclidean   jaccard  \\\n",
              "0       A00-1000.pdf.txt  A00-1001.pdf.txt  0.198097   0.071302  0.063541   \n",
              "1       A00-1000.pdf.txt  A00-1002.pdf.txt  0.217763   0.082760  0.070210   \n",
              "2       A00-1000.pdf.txt  A00-1003.pdf.txt  0.184731   0.063594  0.077755   \n",
              "3       A00-1000.pdf.txt  A00-1004.pdf.txt  0.193602   0.068702  0.069059   \n",
              "4       A00-1000.pdf.txt  A00-1006.pdf.txt  0.185777   0.064195  0.053793   \n",
              "...                  ...               ...       ...        ...       ...   \n",
              "124745  D13-1058.pdf.txt  D13-1084.pdf.txt  0.432170   0.218511  0.172524   \n",
              "124746  D13-1058.pdf.txt  D12-1000.pdf.txt  0.240917   0.096437  0.109736   \n",
              "124747  D13-1059.pdf.txt  D13-1084.pdf.txt  0.455749   0.234908  0.160725   \n",
              "124748  D13-1059.pdf.txt  D12-1000.pdf.txt  0.275082   0.117005  0.113673   \n",
              "124749  D13-1084.pdf.txt  D12-1000.pdf.txt  0.315357   0.141884  0.091451   \n",
              "\n",
              "         Average  \n",
              "0       0.110980  \n",
              "1       0.123578  \n",
              "2       0.108694  \n",
              "3       0.110454  \n",
              "4       0.101255  \n",
              "...          ...  \n",
              "124745  0.274401  \n",
              "124746  0.149030  \n",
              "124747  0.283794  \n",
              "124748  0.168587  \n",
              "124749  0.182897  \n",
              "\n",
              "[124750 rows x 6 columns]"
            ],
            "text/html": [
              "\n",
              "  <div id=\"df-b22b2e8d-3b55-4a5a-90db-19617114cb6e\">\n",
              "    <div class=\"colab-df-container\">\n",
              "      <div>\n",
              "<style scoped>\n",
              "    .dataframe tbody tr th:only-of-type {\n",
              "        vertical-align: middle;\n",
              "    }\n",
              "\n",
              "    .dataframe tbody tr th {\n",
              "        vertical-align: top;\n",
              "    }\n",
              "\n",
              "    .dataframe thead th {\n",
              "        text-align: right;\n",
              "    }\n",
              "</style>\n",
              "<table border=\"1\" class=\"dataframe\">\n",
              "  <thead>\n",
              "    <tr style=\"text-align: right;\">\n",
              "      <th></th>\n",
              "      <th>First_Doc</th>\n",
              "      <th>Second_Doc</th>\n",
              "      <th>tf_idf</th>\n",
              "      <th>euclidean</th>\n",
              "      <th>jaccard</th>\n",
              "      <th>Average</th>\n",
              "    </tr>\n",
              "  </thead>\n",
              "  <tbody>\n",
              "    <tr>\n",
              "      <th>0</th>\n",
              "      <td>A00-1000.pdf.txt</td>\n",
              "      <td>A00-1001.pdf.txt</td>\n",
              "      <td>0.198097</td>\n",
              "      <td>0.071302</td>\n",
              "      <td>0.063541</td>\n",
              "      <td>0.110980</td>\n",
              "    </tr>\n",
              "    <tr>\n",
              "      <th>1</th>\n",
              "      <td>A00-1000.pdf.txt</td>\n",
              "      <td>A00-1002.pdf.txt</td>\n",
              "      <td>0.217763</td>\n",
              "      <td>0.082760</td>\n",
              "      <td>0.070210</td>\n",
              "      <td>0.123578</td>\n",
              "    </tr>\n",
              "    <tr>\n",
              "      <th>2</th>\n",
              "      <td>A00-1000.pdf.txt</td>\n",
              "      <td>A00-1003.pdf.txt</td>\n",
              "      <td>0.184731</td>\n",
              "      <td>0.063594</td>\n",
              "      <td>0.077755</td>\n",
              "      <td>0.108694</td>\n",
              "    </tr>\n",
              "    <tr>\n",
              "      <th>3</th>\n",
              "      <td>A00-1000.pdf.txt</td>\n",
              "      <td>A00-1004.pdf.txt</td>\n",
              "      <td>0.193602</td>\n",
              "      <td>0.068702</td>\n",
              "      <td>0.069059</td>\n",
              "      <td>0.110454</td>\n",
              "    </tr>\n",
              "    <tr>\n",
              "      <th>4</th>\n",
              "      <td>A00-1000.pdf.txt</td>\n",
              "      <td>A00-1006.pdf.txt</td>\n",
              "      <td>0.185777</td>\n",
              "      <td>0.064195</td>\n",
              "      <td>0.053793</td>\n",
              "      <td>0.101255</td>\n",
              "    </tr>\n",
              "    <tr>\n",
              "      <th>...</th>\n",
              "      <td>...</td>\n",
              "      <td>...</td>\n",
              "      <td>...</td>\n",
              "      <td>...</td>\n",
              "      <td>...</td>\n",
              "      <td>...</td>\n",
              "    </tr>\n",
              "    <tr>\n",
              "      <th>124745</th>\n",
              "      <td>D13-1058.pdf.txt</td>\n",
              "      <td>D13-1084.pdf.txt</td>\n",
              "      <td>0.432170</td>\n",
              "      <td>0.218511</td>\n",
              "      <td>0.172524</td>\n",
              "      <td>0.274401</td>\n",
              "    </tr>\n",
              "    <tr>\n",
              "      <th>124746</th>\n",
              "      <td>D13-1058.pdf.txt</td>\n",
              "      <td>D12-1000.pdf.txt</td>\n",
              "      <td>0.240917</td>\n",
              "      <td>0.096437</td>\n",
              "      <td>0.109736</td>\n",
              "      <td>0.149030</td>\n",
              "    </tr>\n",
              "    <tr>\n",
              "      <th>124747</th>\n",
              "      <td>D13-1059.pdf.txt</td>\n",
              "      <td>D13-1084.pdf.txt</td>\n",
              "      <td>0.455749</td>\n",
              "      <td>0.234908</td>\n",
              "      <td>0.160725</td>\n",
              "      <td>0.283794</td>\n",
              "    </tr>\n",
              "    <tr>\n",
              "      <th>124748</th>\n",
              "      <td>D13-1059.pdf.txt</td>\n",
              "      <td>D12-1000.pdf.txt</td>\n",
              "      <td>0.275082</td>\n",
              "      <td>0.117005</td>\n",
              "      <td>0.113673</td>\n",
              "      <td>0.168587</td>\n",
              "    </tr>\n",
              "    <tr>\n",
              "      <th>124749</th>\n",
              "      <td>D13-1084.pdf.txt</td>\n",
              "      <td>D12-1000.pdf.txt</td>\n",
              "      <td>0.315357</td>\n",
              "      <td>0.141884</td>\n",
              "      <td>0.091451</td>\n",
              "      <td>0.182897</td>\n",
              "    </tr>\n",
              "  </tbody>\n",
              "</table>\n",
              "<p>124750 rows × 6 columns</p>\n",
              "</div>\n",
              "      <button class=\"colab-df-convert\" onclick=\"convertToInteractive('df-b22b2e8d-3b55-4a5a-90db-19617114cb6e')\"\n",
              "              title=\"Convert this dataframe to an interactive table.\"\n",
              "              style=\"display:none;\">\n",
              "        \n",
              "  <svg xmlns=\"http://www.w3.org/2000/svg\" height=\"24px\"viewBox=\"0 0 24 24\"\n",
              "       width=\"24px\">\n",
              "    <path d=\"M0 0h24v24H0V0z\" fill=\"none\"/>\n",
              "    <path d=\"M18.56 5.44l.94 2.06.94-2.06 2.06-.94-2.06-.94-.94-2.06-.94 2.06-2.06.94zm-11 1L8.5 8.5l.94-2.06 2.06-.94-2.06-.94L8.5 2.5l-.94 2.06-2.06.94zm10 10l.94 2.06.94-2.06 2.06-.94-2.06-.94-.94-2.06-.94 2.06-2.06.94z\"/><path d=\"M17.41 7.96l-1.37-1.37c-.4-.4-.92-.59-1.43-.59-.52 0-1.04.2-1.43.59L10.3 9.45l-7.72 7.72c-.78.78-.78 2.05 0 2.83L4 21.41c.39.39.9.59 1.41.59.51 0 1.02-.2 1.41-.59l7.78-7.78 2.81-2.81c.8-.78.8-2.07 0-2.86zM5.41 20L4 18.59l7.72-7.72 1.47 1.35L5.41 20z\"/>\n",
              "  </svg>\n",
              "      </button>\n",
              "      \n",
              "  <style>\n",
              "    .colab-df-container {\n",
              "      display:flex;\n",
              "      flex-wrap:wrap;\n",
              "      gap: 12px;\n",
              "    }\n",
              "\n",
              "    .colab-df-convert {\n",
              "      background-color: #E8F0FE;\n",
              "      border: none;\n",
              "      border-radius: 50%;\n",
              "      cursor: pointer;\n",
              "      display: none;\n",
              "      fill: #1967D2;\n",
              "      height: 32px;\n",
              "      padding: 0 0 0 0;\n",
              "      width: 32px;\n",
              "    }\n",
              "\n",
              "    .colab-df-convert:hover {\n",
              "      background-color: #E2EBFA;\n",
              "      box-shadow: 0px 1px 2px rgba(60, 64, 67, 0.3), 0px 1px 3px 1px rgba(60, 64, 67, 0.15);\n",
              "      fill: #174EA6;\n",
              "    }\n",
              "\n",
              "    [theme=dark] .colab-df-convert {\n",
              "      background-color: #3B4455;\n",
              "      fill: #D2E3FC;\n",
              "    }\n",
              "\n",
              "    [theme=dark] .colab-df-convert:hover {\n",
              "      background-color: #434B5C;\n",
              "      box-shadow: 0px 1px 3px 1px rgba(0, 0, 0, 0.15);\n",
              "      filter: drop-shadow(0px 1px 2px rgba(0, 0, 0, 0.3));\n",
              "      fill: #FFFFFF;\n",
              "    }\n",
              "  </style>\n",
              "\n",
              "      <script>\n",
              "        const buttonEl =\n",
              "          document.querySelector('#df-b22b2e8d-3b55-4a5a-90db-19617114cb6e button.colab-df-convert');\n",
              "        buttonEl.style.display =\n",
              "          google.colab.kernel.accessAllowed ? 'block' : 'none';\n",
              "\n",
              "        async function convertToInteractive(key) {\n",
              "          const element = document.querySelector('#df-b22b2e8d-3b55-4a5a-90db-19617114cb6e');\n",
              "          const dataTable =\n",
              "            await google.colab.kernel.invokeFunction('convertToInteractive',\n",
              "                                                     [key], {});\n",
              "          if (!dataTable) return;\n",
              "\n",
              "          const docLinkHtml = 'Like what you see? Visit the ' +\n",
              "            '<a target=\"_blank\" href=https://colab.research.google.com/notebooks/data_table.ipynb>data table notebook</a>'\n",
              "            + ' to learn more about interactive tables.';\n",
              "          element.innerHTML = '';\n",
              "          dataTable['output_type'] = 'display_data';\n",
              "          await google.colab.output.renderOutput(dataTable, element);\n",
              "          const docLink = document.createElement('div');\n",
              "          docLink.innerHTML = docLinkHtml;\n",
              "          element.appendChild(docLink);\n",
              "        }\n",
              "      </script>\n",
              "    </div>\n",
              "  </div>\n",
              "  "
            ]
          },
          "metadata": {},
          "execution_count": 58
        }
      ],
      "source": [
        "df"
      ]
    },
    {
      "cell_type": "code",
      "source": [
        "df.to_csv('dataset.csv')"
      ],
      "metadata": {
        "id": "D3FtFt_oxdNU"
      },
      "execution_count": null,
      "outputs": []
    }
  ],
  "metadata": {
    "colab": {
      "collapsed_sections": [],
      "name": "DataSet_Prepration.ipynb",
      "provenance": []
    },
    "kernelspec": {
      "display_name": "Python 3",
      "name": "python3"
    },
    "language_info": {
      "name": "python"
    }
  },
  "nbformat": 4,
  "nbformat_minor": 0
}