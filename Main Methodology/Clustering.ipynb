{
  "cells": [
    {
      "cell_type": "code",
      "execution_count": null,
      "metadata": {
        "id": "XN6RaDiorWtI"
      },
      "outputs": [],
      "source": [
        "import numpy as np\n",
        "import pandas as pd\n",
        "import tensorflow as tf\n",
        "\n",
        "from sklearn.feature_extraction.text import TfidfVectorizer"
      ]
    },
    {
      "cell_type": "code",
      "execution_count": null,
      "metadata": {
        "colab": {
          "base_uri": "https://localhost:8080/"
        },
        "id": "Jqa1tqg7V00n",
        "outputId": "459fe53b-c14d-4cab-81ad-5fbd24218f26"
      },
      "outputs": [
        {
          "output_type": "stream",
          "name": "stdout",
          "text": [
            "Mounted at /content/drive\n"
          ]
        }
      ],
      "source": [
        "from google.colab import drive\n",
        "drive.mount('/content/drive')"
      ]
    },
    {
      "cell_type": "code",
      "execution_count": null,
      "metadata": {
        "colab": {
          "base_uri": "https://localhost:8080/"
        },
        "id": "c3ilgaao-lUE",
        "outputId": "da2e34ab-2c44-47d2-e6df-ba9bfaf70877"
      },
      "outputs": [
        {
          "output_type": "stream",
          "name": "stdout",
          "text": [
            "['A00-1000.pdf.txt', 'A00-1001.pdf.txt', 'A00-1002.pdf.txt', 'A00-1003.pdf.txt', 'A00-1004.pdf.txt', 'A00-1006.pdf.txt', 'A00-1005.pdf.txt', 'A00-1007.pdf.txt', 'A00-1008.pdf.txt', 'A00-1009.pdf.txt', 'A83-1018.pdf.txt', 'A83-1017.pdf.txt', 'A83-1019.pdf.txt', 'A83-1016.pdf.txt', 'A83-1020.pdf.txt', 'A83-1021.pdf.txt', 'A83-1033.pdf.txt', 'A88-1000.pdf.txt', 'A83-1032.pdf.txt', 'A88-1003.pdf.txt', 'A88-1002.pdf.txt', 'A88-1001.pdf.txt', 'A88-1004.pdf.txt', 'A88-1005.pdf.txt', 'A88-1006.pdf.txt', 'A88-1023.pdf.txt', 'A88-1025.pdf.txt', 'A88-1024.pdf.txt', 'A88-1021.pdf.txt', 'A88-1022.pdf.txt', 'A88-1026.pdf.txt', 'A88-1028.pdf.txt', 'A88-1027.pdf.txt', 'A92-1005.pdf.txt', 'A92-1004.pdf.txt', 'A92-1030.pdf.txt', 'A92-1031.pdf.txt', 'A92-1034.pdf.txt', 'A92-1036.pdf.txt', 'A92-1033.pdf.txt', 'A92-1032.pdf.txt', 'A92-1035.pdf.txt', 'A92-1043.pdf.txt', 'A94-1000.pdf.txt', 'A92-1038.pdf.txt', 'A92-1037.pdf.txt', 'A92-1044.pdf.txt', 'A92-1040.pdf.txt', 'A92-1041.pdf.txt', 'A92-1047.pdf.txt', 'A92-1046.pdf.txt', 'A92-1039.pdf.txt', 'A92-1042.pdf.txt', 'A92-1045.pdf.txt', 'A94-1003.pdf.txt', 'A94-1001.pdf.txt', 'A94-1002.pdf.txt', 'A94-1004.pdf.txt', 'A94-1005.pdf.txt', 'A94-1007.pdf.txt', 'A94-1006.pdf.txt', 'A94-1008.pdf.txt', 'A94-1009.pdf.txt', 'A94-1018.pdf.txt', 'A94-1019.pdf.txt', 'A94-1044.pdf.txt', 'A94-1040.pdf.txt', 'A94-1035.pdf.txt', 'A94-1037.pdf.txt', 'A94-1038.pdf.txt', 'A94-1042.pdf.txt', 'A94-1043.pdf.txt', 'A94-1036.pdf.txt', 'A94-1039.pdf.txt', 'A94-1041.pdf.txt', 'A94-1045.pdf.txt', 'A97-1046.pdf.txt', 'A97-1047.pdf.txt', 'A97-1048.pdf.txt', 'A97-1049.pdf.txt', 'D08-1034.pdf.txt', 'D08-1036.pdf.txt', 'D08-1035.pdf.txt', 'D08-1037.pdf.txt', 'D08-1039.pdf.txt', 'D08-1038.pdf.txt', 'D08-1040.pdf.txt', 'D08-1041.pdf.txt', 'D08-1042.pdf.txt', 'D08-1060.pdf.txt', 'D08-1072.pdf.txt', 'D08-1075.pdf.txt', 'D08-1073.pdf.txt', 'D08-1074.pdf.txt', 'D08-1077.pdf.txt', 'D08-1076.pdf.txt', 'D08-1079.pdf.txt', 'D08-1078.pdf.txt', 'D08-1080.pdf.txt', 'D08-1082.pdf.txt', 'D08-1081.pdf.txt', 'D08-1083.pdf.txt', 'D08-1085.pdf.txt', 'D08-1087.pdf.txt', 'D08-1084.pdf.txt', 'D08-1086.pdf.txt', 'D08-1090.pdf.txt', 'D08-1091.pdf.txt', 'D08-1089.pdf.txt', 'D08-1088.pdf.txt', 'D08-1094.pdf.txt', 'D08-1092.pdf.txt', 'D08-1093.pdf.txt', 'D08-1095.pdf.txt', 'D08-1097.pdf.txt', 'D08-1096.pdf.txt', 'D08-1098.pdf.txt', 'D08-1103.pdf.txt', 'D08-1102.pdf.txt', 'D08-1100.pdf.txt', 'D08-1099.pdf.txt', 'D08-1101.pdf.txt', 'D08-1105.pdf.txt', 'D08-1104.pdf.txt', 'D09-1004.pdf.txt', 'D09-1006.pdf.txt', 'D09-1005.pdf.txt', 'D09-1003.pdf.txt', 'D09-1008.pdf.txt', 'D09-1007.pdf.txt', 'D09-1011.pdf.txt', 'D09-1010.pdf.txt', 'D09-1009.pdf.txt', 'D09-1012.pdf.txt', 'D09-1015.pdf.txt', 'D09-1013.pdf.txt', 'D09-1014.pdf.txt', 'D09-1016.pdf.txt', 'D09-1028.pdf.txt', 'D09-1030.pdf.txt', 'D09-1029.pdf.txt', 'D09-1031.pdf.txt', 'D09-1032.pdf.txt', 'D09-1033.pdf.txt', 'D09-1034.pdf.txt', 'D09-1060.pdf.txt', 'D09-1059.pdf.txt', 'D09-1057.pdf.txt', 'D09-1058.pdf.txt', 'D09-1061.pdf.txt', 'D09-1062.pdf.txt', 'D09-1063.pdf.txt', 'D09-1065.pdf.txt', 'D09-1064.pdf.txt', 'D09-1068.pdf.txt', 'D09-1066.pdf.txt', 'D09-1067.pdf.txt', 'D09-1070.pdf.txt', 'D09-1071.pdf.txt', 'D09-1069.pdf.txt', 'D09-1072.pdf.txt', 'D09-1073.pdf.txt', 'D09-1074.pdf.txt', 'D09-1077.pdf.txt', 'D09-1075.pdf.txt', 'D09-1076.pdf.txt', 'D09-1079.pdf.txt', 'D09-1080.pdf.txt', 'D09-1078.pdf.txt', 'D09-1081.pdf.txt', 'D09-1082.pdf.txt', 'D09-1083.pdf.txt', 'D09-1084.pdf.txt', 'D09-1085.pdf.txt', 'D09-1087.pdf.txt', 'D09-1088.pdf.txt', 'D09-1086.pdf.txt', 'D09-1089.pdf.txt', 'D09-1091.pdf.txt', 'D09-1090.pdf.txt', 'D09-1092.pdf.txt', 'D09-1093.pdf.txt', 'D09-1096.pdf.txt', 'D09-1095.pdf.txt', 'D09-1094.pdf.txt', 'D09-1098.pdf.txt', 'D09-1097.pdf.txt', 'D09-1100.pdf.txt', 'D09-1099.pdf.txt', 'D09-1101.pdf.txt', 'D09-1103.pdf.txt', 'D09-1102.pdf.txt', 'D09-1105.pdf.txt', 'D09-1106.pdf.txt', 'D09-1104.pdf.txt', 'D09-1107.pdf.txt', 'D09-1109.pdf.txt', 'D09-1108.pdf.txt', 'D09-1111.pdf.txt', 'D09-1110.pdf.txt', 'D09-1112.pdf.txt', 'D09-1114.pdf.txt', 'D09-1113.pdf.txt', 'D09-1116.pdf.txt', 'D09-1117.pdf.txt', 'D09-1115.pdf.txt', 'D09-1120.pdf.txt', 'D09-1119.pdf.txt', 'D09-1118.pdf.txt', 'D09-1122.pdf.txt', 'D09-1121.pdf.txt', 'D09-1123.pdf.txt', 'D09-1126.pdf.txt', 'D09-1124.pdf.txt', 'D09-1125.pdf.txt', 'D09-1129.pdf.txt', 'D09-1128.pdf.txt', 'D09-1127.pdf.txt', 'D09-1130.pdf.txt', 'D09-1131.pdf.txt', 'D09-1134.pdf.txt', 'D09-1133.pdf.txt', 'D09-1132.pdf.txt', 'D09-1136.pdf.txt', 'D09-1135.pdf.txt', 'D09-1137.pdf.txt', 'D09-1139.pdf.txt', 'D09-1140.pdf.txt', 'D09-1138.pdf.txt', 'D09-1142.pdf.txt', 'D09-1141.pdf.txt', 'D09-1143.pdf.txt', 'D09-1144.pdf.txt', 'D09-1145.pdf.txt', 'D09-1146.pdf.txt', 'D09-1149.pdf.txt', 'D09-1147.pdf.txt', 'D09-1148.pdf.txt', 'D09-1151.pdf.txt', 'D09-1150.pdf.txt', 'D09-1153.pdf.txt', 'D09-1152.pdf.txt', 'D09-1154.pdf.txt', 'D09-1156.pdf.txt', 'D09-1155.pdf.txt', 'D09-1157.pdf.txt', 'D09-1158.pdf.txt', 'D09-1161.pdf.txt', 'D09-1160.pdf.txt', 'D09-1159.pdf.txt', 'D09-1163.pdf.txt', 'D11-1000.pdf.txt', 'D09-1162.pdf.txt', 'D11-1003.pdf.txt', 'D11-1001.pdf.txt', 'D11-1002.pdf.txt', 'D11-1006.pdf.txt', 'D11-1004.pdf.txt', 'D11-1005.pdf.txt', 'D11-1008.pdf.txt', 'D11-1007.pdf.txt', 'D11-1009.pdf.txt', 'D11-1010.pdf.txt', 'D11-1011.pdf.txt', 'D11-1012.pdf.txt', 'D11-1014.pdf.txt', 'D11-1013.pdf.txt', 'D11-1015.pdf.txt', 'D11-1075.pdf.txt', 'D11-1078.pdf.txt', 'D11-1077.pdf.txt', 'D11-1076.pdf.txt', 'D11-1079.pdf.txt', 'D11-1080.pdf.txt', 'D11-1081.pdf.txt', 'D11-1083.pdf.txt', 'D11-1082.pdf.txt', 'D11-1084.pdf.txt', 'D11-1086.pdf.txt', 'D11-1085.pdf.txt', 'D11-1087.pdf.txt', 'D11-1088.pdf.txt', 'D11-1091.pdf.txt', 'D11-1090.pdf.txt', 'D11-1089.pdf.txt', 'D11-1092.pdf.txt', 'D11-1093.pdf.txt', 'D11-1095.pdf.txt', 'D11-1094.pdf.txt', 'D11-1097.pdf.txt', 'D11-1096.pdf.txt', 'D11-1099.pdf.txt', 'D11-1098.pdf.txt', 'D11-1100.pdf.txt', 'D11-1101.pdf.txt', 'D11-1103.pdf.txt', 'D11-1102.pdf.txt', 'D11-1105.pdf.txt', 'D11-1104.pdf.txt', 'D11-1107.pdf.txt', 'D11-1106.pdf.txt', 'D11-1108.pdf.txt', 'D11-1110.pdf.txt', 'D11-1109.pdf.txt', 'D11-1112.pdf.txt', 'D11-1111.pdf.txt', 'D11-1113.pdf.txt', 'D11-1115.pdf.txt', 'D11-1114.pdf.txt', 'D11-1116.pdf.txt', 'D11-1117.pdf.txt', 'D11-1119.pdf.txt', 'D11-1118.pdf.txt', 'D11-1120.pdf.txt', 'D11-1121.pdf.txt', 'D11-1122.pdf.txt', 'D11-1125.pdf.txt', 'D11-1126.pdf.txt', 'D11-1123.pdf.txt', 'D11-1124.pdf.txt', 'D11-1129.pdf.txt', 'D11-1128.pdf.txt', 'D11-1127.pdf.txt', 'D11-1130.pdf.txt', 'D11-1132.pdf.txt', 'D11-1131.pdf.txt', 'D11-1134.pdf.txt', 'D11-1133.pdf.txt', 'D11-1136.pdf.txt', 'D11-1135.pdf.txt', 'D11-1138.pdf.txt', 'D11-1137.pdf.txt', 'D11-1139.pdf.txt', 'D11-1141.pdf.txt', 'D11-1142.pdf.txt', 'D11-1140.pdf.txt', 'D11-1144.pdf.txt', 'D11-1143.pdf.txt', 'D11-1145.pdf.txt', 'D11-1147.pdf.txt', 'D11-1146.pdf.txt', 'D11-1148.pdf.txt', 'D11-1149.pdf.txt', 'D12-1001.pdf.txt', 'D12-1002.pdf.txt', 'D12-1004.pdf.txt', 'D12-1003.pdf.txt', 'D12-1006.pdf.txt', 'D12-1007.pdf.txt', 'D12-1005.pdf.txt', 'D12-1009.pdf.txt', 'D12-1010.pdf.txt', 'D12-1008.pdf.txt', 'D12-1012.pdf.txt', 'D12-1011.pdf.txt', 'D12-1015.pdf.txt', 'D12-1013.pdf.txt', 'D12-1016.pdf.txt', 'D12-1014.pdf.txt', 'D12-1018.pdf.txt', 'D12-1017.pdf.txt', 'D12-1019.pdf.txt', 'D12-1020.pdf.txt', 'D12-1021.pdf.txt', 'D12-1022.pdf.txt', 'D12-1023.pdf.txt', 'D12-1024.pdf.txt', 'D12-1027.pdf.txt', 'D12-1026.pdf.txt', 'D12-1025.pdf.txt', 'D12-1030.pdf.txt', 'D12-1028.pdf.txt', 'D12-1029.pdf.txt', 'D12-1032.pdf.txt', 'D12-1032v2.pdf.txt', 'D12-1031.pdf.txt', 'D12-1034.pdf.txt', 'D12-1035.pdf.txt', 'D12-1033.pdf.txt', 'D12-1037.pdf.txt', 'D12-1036.pdf.txt', 'D12-1040.pdf.txt', 'D12-1038.pdf.txt', 'D12-1039.pdf.txt', 'D12-1041.pdf.txt', 'D12-1042.pdf.txt', 'D12-1043.pdf.txt', 'D12-1044.pdf.txt', 'D12-1046.pdf.txt', 'D12-1045.pdf.txt', 'D12-1048.pdf.txt', 'D12-1047.pdf.txt', 'D12-1050.pdf.txt', 'D12-1049.pdf.txt', 'D12-1051.pdf.txt', 'D12-1052.pdf.txt', 'D12-1054.pdf.txt', 'D12-1053.pdf.txt', 'D12-1056.pdf.txt', 'D12-1055.pdf.txt', 'D12-1057.pdf.txt', 'D12-1058.pdf.txt', 'D12-1059.pdf.txt', 'D12-1060.pdf.txt', 'D12-1062.pdf.txt', 'D12-1061.pdf.txt', 'D12-1063.pdf.txt', 'D12-1064.pdf.txt', 'D12-1065.pdf.txt', 'D12-1068.pdf.txt', 'D12-1067.pdf.txt', 'D12-1066.pdf.txt', 'D12-1070.pdf.txt', 'D12-1071.pdf.txt', 'D12-1069.pdf.txt', 'D12-1074.pdf.txt', 'D12-1073.pdf.txt', 'D12-1072.pdf.txt', 'D12-1077.pdf.txt', 'D12-1075.pdf.txt', 'D12-1076.pdf.txt', 'D12-1080.pdf.txt', 'D12-1079.pdf.txt', 'D12-1078.pdf.txt', 'D12-1081.pdf.txt', 'D12-1082.pdf.txt', 'D12-1084.pdf.txt', 'D12-1085.pdf.txt', 'D12-1083.pdf.txt', 'D12-1086.pdf.txt', 'D12-1087.pdf.txt', 'D12-1088.pdf.txt', 'D12-1089.pdf.txt', 'D12-1090.pdf.txt', 'D12-1093.pdf.txt', 'D12-1092.pdf.txt', 'D12-1091.pdf.txt', 'D12-1094.pdf.txt', 'D12-1095.pdf.txt', 'D12-1096.pdf.txt', 'D12-1098.pdf.txt', 'D12-1097.pdf.txt', 'D12-1099.pdf.txt', 'D12-1100.pdf.txt', 'D12-1102.pdf.txt', 'D12-1101.pdf.txt', 'D12-1105.pdf.txt', 'D12-1103.pdf.txt', 'D12-1104.pdf.txt', 'D12-1107.pdf.txt', 'D12-1108.pdf.txt', 'D12-1106.pdf.txt', 'D12-1109.pdf.txt', 'D12-1111.pdf.txt', 'D12-1110.pdf.txt', 'D12-1112.pdf.txt', 'D12-1113.pdf.txt', 'D12-1114.pdf.txt', 'D13-1020.pdf.txt', 'D13-1021.pdf.txt', 'D13-1023.pdf.txt', 'D13-1022.pdf.txt', 'D13-1025.pdf.txt', 'D13-1026.pdf.txt', 'D13-1024.pdf.txt', 'D13-1028.pdf.txt', 'D13-1029.pdf.txt', 'D13-1027.pdf.txt', 'D13-1032.pdf.txt', 'D13-1033.pdf.txt', 'D13-1030.pdf.txt', 'D13-1031.pdf.txt', 'D13-1034.pdf.txt', 'D13-1035.pdf.txt', 'D13-1036.pdf.txt', 'D13-1038.pdf.txt', 'D13-1039.pdf.txt', 'D13-1037.pdf.txt', 'D13-1040.pdf.txt', 'D13-1041.pdf.txt', 'D13-1042.pdf.txt', 'D13-1043.pdf.txt', 'D13-1044.pdf.txt', 'D13-1045.pdf.txt', 'D13-1046.pdf.txt', 'D13-1047.pdf.txt', 'D13-1049.pdf.txt', 'D13-1050.pdf.txt', 'D13-1048.pdf.txt', 'D13-1051.pdf.txt', 'D13-1053.pdf.txt', 'D13-1052.pdf.txt', 'D13-1054.pdf.txt', 'D13-1056.pdf.txt', 'D13-1057.pdf.txt', 'D13-1055.pdf.txt', 'D13-1058.pdf.txt', 'D13-1059.pdf.txt', 'D13-1084.pdf.txt', 'D12-1000.pdf.txt']\n"
          ]
        }
      ],
      "source": [
        "import os\n",
        " \n",
        "docs=[]\n",
        "docs_names=[]\n",
        "\n",
        "path=\"/content/drive/MyDrive/FYP/Text_Files\"\n",
        "dir_list = os.listdir(path)\n",
        "print(dir_list)\n",
        "\n",
        "for f in dir_list:\n",
        "  with open(path+\"/\"+f, \"r\", encoding='Windows-1252') as file:\n",
        "    data = file.read()\n",
        "  data = data.replace(\"\\n\",\" \")\n",
        "  docs.append(data)\n",
        "  docs_names.append(f)\n",
        "  #print(f)"
      ]
    },
    {
      "cell_type": "code",
      "source": [
        "vectorizer = TfidfVectorizer()\n",
        "\n",
        "vectorizer.fit(docs)\n",
        "X = vectorizer.transform(docs)\n",
        "\n",
        "print(X.shape)"
      ],
      "metadata": {
        "colab": {
          "base_uri": "https://localhost:8080/"
        },
        "id": "p0qrvFQYBI2Q",
        "outputId": "bb556fc9-b891-4a66-f30c-b9d60bfd8d77"
      },
      "execution_count": null,
      "outputs": [
        {
          "output_type": "stream",
          "name": "stdout",
          "text": [
            "(500, 62880)\n"
          ]
        }
      ]
    },
    {
      "cell_type": "code",
      "source": [
        "from scipy.sparse import csr_matrix\n",
        "\n",
        "S = csr_matrix(X)\n",
        "\n",
        "# reconstruct dense matrix\n",
        "Z = S.todense()"
      ],
      "metadata": {
        "id": "F1OtMJRhBXPr"
      },
      "execution_count": null,
      "outputs": []
    },
    {
      "cell_type": "code",
      "execution_count": null,
      "metadata": {
        "id": "D3FtFt_oxdNU"
      },
      "outputs": [],
      "source": [
        "df = pd.read_csv ('/content/drive/MyDrive/FYP/dataset.csv')"
      ]
    },
    {
      "cell_type": "code",
      "execution_count": null,
      "metadata": {
        "id": "Br7YCZAt-5nb"
      },
      "outputs": [],
      "source": [
        "from keras.models import load_model\n",
        "model = load_model('/content/drive/MyDrive/FYP/saved_model/autoencoder.h5')"
      ]
    },
    {
      "cell_type": "code",
      "execution_count": null,
      "metadata": {
        "id": "ZgCg8NI42r3v"
      },
      "outputs": [],
      "source": [
        "import keras\n",
        "from keras import *\n",
        "\n",
        "# define an encoder model (without the decoder)\n",
        "encoder = Model(inputs=model.input, outputs=model.layers[-9].output)"
      ]
    },
    {
      "cell_type": "code",
      "execution_count": null,
      "metadata": {
        "id": "2CzUw2QCSk2n"
      },
      "outputs": [],
      "source": [
        "compress = []\n",
        "for i in range(len(Z)) :\n",
        "  a = (encoder.predict(Z[i]).flatten())\n",
        "  compress.append(a)"
      ]
    },
    {
      "cell_type": "code",
      "source": [
        "Z = np.asarray(Z)"
      ],
      "metadata": {
        "id": "Vase6DEaFN1p"
      },
      "execution_count": null,
      "outputs": []
    },
    {
      "cell_type": "code",
      "source": [
        "import matplotlib.pyplot as plt\n",
        "from sklearn.cluster import KMeans\n",
        "\n",
        "sse=[]\n",
        "\n",
        "for k in range(1, 10):\n",
        "  kmeans= KMeans(n_clusters=k)\n",
        "  kmeans.fit(compress)\n",
        "  sse.append(kmeans.inertia_)"
      ],
      "metadata": {
        "id": "WoflQn8BHM0D"
      },
      "execution_count": null,
      "outputs": []
    },
    {
      "cell_type": "code",
      "source": [
        "from matplotlib import pyplot as plt\n",
        "\n",
        "plt.plot(range(1, 10), sse)\n",
        "plt.title('Elbow Method')\n",
        "plt.xlabel('Number of clusters')\n",
        "plt.ylabel('SSE')\n",
        "plt.show()"
      ],
      "metadata": {
        "colab": {
          "base_uri": "https://localhost:8080/",
          "height": 295
        },
        "id": "zTVagesNIm-k",
        "outputId": "683b4c5a-9b3d-4622-be61-fedbafca7586"
      },
      "execution_count": null,
      "outputs": [
        {
          "output_type": "display_data",
          "data": {
            "text/plain": [
              "<Figure size 432x288 with 1 Axes>"
            ],
            "image/png": "[encoded data removed]"
          },
          "metadata": {
            "needs_background": "light"
          }
        }
      ]
    },
    {
      "cell_type": "code",
      "source": [
        "from sklearn.cluster import KMeans\n",
        "\n",
        "# Fitting K-Means to the dataset\n",
        "kmeans = KMeans(n_clusters = 5, init = 'k-means++')\n",
        "y_kmeans = kmeans.fit_predict(compress)"
      ],
      "metadata": {
        "id": "CIPv_jHiE_Vd"
      },
      "execution_count": null,
      "outputs": []
    },
    {
      "cell_type": "code",
      "source": [
        "y_kmeans"
      ],
      "metadata": {
        "colab": {
          "base_uri": "https://localhost:8080/"
        },
        "id": "wr2xj54TFawr",
        "outputId": "20445c44-0e60-4b37-e005-95fc122b525e"
      },
      "execution_count": null,
      "outputs": [
        {
          "output_type": "execute_result",
          "data": {
            "text/plain": [
              "array([2, 1, 1, 1, 3, 1, 1, 1, 1, 1, 1, 1, 1, 1, 1, 1, 1, 2, 1, 1, 1, 1,\n",
              "       1, 1, 1, 1, 1, 2, 1, 1, 1, 2, 1, 1, 1, 1, 1, 1, 1, 1, 1, 1, 1, 2,\n",
              "       1, 1, 1, 1, 1, 1, 1, 1, 1, 1, 3, 1, 1, 2, 2, 1, 1, 3, 3, 1, 1, 1,\n",
              "       1, 2, 3, 1, 1, 1, 1, 1, 1, 1, 1, 1, 1, 1, 1, 3, 3, 3, 0, 4, 1, 2,\n",
              "       1, 0, 4, 1, 4, 1, 0, 3, 2, 3, 4, 0, 4, 3, 3, 2, 0, 0, 3, 0, 0, 3,\n",
              "       3, 0, 0, 4, 0, 3, 4, 3, 3, 1, 4, 4, 4, 2, 0, 3, 3, 0, 0, 3, 3, 3,\n",
              "       4, 0, 4, 4, 4, 4, 4, 2, 4, 4, 2, 4, 3, 0, 0, 4, 0, 4, 2, 2, 4, 4,\n",
              "       4, 3, 4, 2, 3, 2, 0, 0, 0, 3, 0, 0, 3, 0, 3, 2, 0, 4, 4, 0, 0, 0,\n",
              "       0, 4, 4, 3, 4, 4, 2, 4, 3, 4, 4, 3, 4, 4, 1, 1, 0, 0, 3, 3, 4, 3,\n",
              "       0, 3, 0, 0, 4, 3, 0, 3, 4, 0, 4, 4, 1, 0, 1, 0, 3, 3, 4, 0, 4, 3,\n",
              "       4, 1, 4, 1, 0, 4, 4, 4, 4, 1, 0, 0, 4, 1, 4, 4, 3, 4, 2, 2, 0, 4,\n",
              "       4, 2, 3, 4, 4, 0, 2, 0, 4, 2, 2, 3, 4, 4, 0, 3, 0, 0, 0, 3, 0, 4,\n",
              "       4, 4, 4, 2, 4, 3, 3, 4, 0, 0, 0, 3, 0, 3, 0, 0, 3, 4, 4, 0, 0, 4,\n",
              "       3, 4, 0, 0, 0, 4, 4, 4, 2, 3, 0, 4, 3, 3, 0, 0, 0, 0, 3, 3, 0, 0,\n",
              "       3, 0, 2, 0, 0, 4, 2, 4, 0, 3, 4, 2, 3, 2, 3, 2, 4, 0, 4, 4, 4, 4,\n",
              "       0, 0, 0, 4, 4, 0, 4, 4, 2, 4, 0, 0, 0, 0, 0, 0, 2, 4, 4, 3, 4, 4,\n",
              "       1, 4, 4, 2, 4, 4, 4, 4, 4, 0, 3, 3, 0, 0, 3, 2, 1, 0, 0, 0, 0, 3,\n",
              "       3, 4, 2, 4, 2, 0, 4, 0, 0, 2, 2, 4, 3, 3, 0, 4, 4, 0, 0, 4, 0, 0,\n",
              "       2, 4, 0, 0, 2, 2, 0, 4, 4, 4, 0, 0, 4, 4, 0, 2, 2, 4, 4, 0, 4, 4,\n",
              "       0, 3, 4, 4, 0, 0, 4, 4, 0, 0, 0, 0, 4, 0, 0, 0, 4, 2, 0, 4, 0, 0,\n",
              "       2, 2, 4, 2, 3, 4, 0, 3, 4, 0, 3, 0, 3, 4, 0, 3, 4, 4, 4, 2, 3, 3,\n",
              "       3, 0, 3, 4, 4, 4, 0, 0, 4, 0, 3, 2, 4, 4, 4, 4, 4, 4, 4, 4, 4, 4,\n",
              "       0, 4, 0, 0, 0, 0, 0, 0, 0, 0, 4, 4, 4, 3, 0, 2], dtype=int32)"
            ]
          },
          "metadata": {},
          "execution_count": 14
        }
      ]
    },
    {
      "cell_type": "code",
      "source": [
        "with open('/content/drive/MyDrive/Dataset/D13-1047.pdf.txt', \"r\", encoding='Windows-1252') as file:\n",
        "  d = file.read()\n",
        "d = d.replace(\"\\n\",\" \")"
      ],
      "metadata": {
        "id": "nLYmNRGkN6qh"
      },
      "execution_count": null,
      "outputs": []
    },
    {
      "cell_type": "code",
      "source": [
        "d = [d]\n",
        "dv = vectorizer.transform(d)"
      ],
      "metadata": {
        "id": "8N6X55S4S_Vw"
      },
      "execution_count": null,
      "outputs": []
    },
    {
      "cell_type": "code",
      "source": [
        "from scipy.sparse import csr_matrix\n",
        "\n",
        "q = csr_matrix(dv)\n",
        "\n",
        "# reconstruct dense matrix\n",
        "qq = q.todense()"
      ],
      "metadata": {
        "id": "ff2xwnbsT9kg"
      },
      "execution_count": null,
      "outputs": []
    },
    {
      "cell_type": "code",
      "source": [
        "query = encoder.predict(qq)\n",
        "query_doc = query.reshape(3930,)"
      ],
      "metadata": {
        "id": "oXGgZRn6TxiN"
      },
      "execution_count": null,
      "outputs": []
    },
    {
      "cell_type": "code",
      "source": [
        "centroid = kmeans.cluster_centers_"
      ],
      "metadata": {
        "id": "D9_MNzx9VKMT"
      },
      "execution_count": null,
      "outputs": []
    },
    {
      "cell_type": "code",
      "source": [
        "from scipy.spatial import distance\n",
        "\n",
        "euc_dis = []\n",
        "for i in centroid:\n",
        "  dis = distance.euclidean(query_doc, i)\n",
        "  euc_dis.append(dis)\n",
        "\n",
        "euc_dis"
      ],
      "metadata": {
        "colab": {
          "base_uri": "https://localhost:8080/"
        },
        "id": "s5C6NHxOVmgE",
        "outputId": "7d585630-87d9-4609-94b7-73e5c03a3b92"
      },
      "execution_count": null,
      "outputs": [
        {
          "output_type": "execute_result",
          "data": {
            "text/plain": [
              "[0.03888905938033165,\n",
              " 0.03993283922060733,\n",
              " 0.03905143684409875,\n",
              " 0.039337811466444134,\n",
              " 0.03833246815178015]"
            ]
          },
          "metadata": {},
          "execution_count": 20
        }
      ]
    },
    {
      "cell_type": "code",
      "source": [
        "k = euc_dis.index(max(euc_dis))\n",
        "k"
      ],
      "metadata": {
        "colab": {
          "base_uri": "https://localhost:8080/"
        },
        "id": "qTZpY53oiKcF",
        "outputId": "848e3290-0f82-464b-ae6e-c6613c801872"
      },
      "execution_count": null,
      "outputs": [
        {
          "output_type": "execute_result",
          "data": {
            "text/plain": [
              "1"
            ]
          },
          "metadata": {},
          "execution_count": 21
        }
      ]
    },
    {
      "cell_type": "code",
      "source": [
        "from keras.models import load_model\n",
        "model = load_model('/content/drive/MyDrive/FYP/saved_model/siamesemodel.h5')"
      ],
      "metadata": {
        "id": "mDxX26cYnMFj"
      },
      "execution_count": null,
      "outputs": []
    },
    {
      "cell_type": "code",
      "source": [
        "model.summary()"
      ],
      "metadata": {
        "colab": {
          "base_uri": "https://localhost:8080/"
        },
        "id": "4-wOOn_1CWCk",
        "outputId": "579ab6b7-d8f1-4424-b562-2b10291e5f6a"
      },
      "execution_count": null,
      "outputs": [
        {
          "output_type": "stream",
          "name": "stdout",
          "text": [
            "Model: \"model_2\"\n",
            "__________________________________________________________________________________________________\n",
            " Layer (type)                   Output Shape         Param #     Connected to                     \n",
            "==================================================================================================\n",
            " input_7 (InputLayer)           [(None, 3930)]       0           []                               \n",
            "                                                                                                  \n",
            " input_8 (InputLayer)           [(None, 3930)]       0           []                               \n",
            "                                                                                                  \n",
            " concatenate_3 (Concatenate)    (None, 7860)         0           ['input_7[0][0]',                \n",
            "                                                                  'input_8[0][0]']                \n",
            "                                                                                                  \n",
            " dense_6 (Dense)                (None, 128)          1006208     ['concatenate_3[0][0]']          \n",
            "                                                                                                  \n",
            " dense_7 (Dense)                (None, 1)            129         ['dense_6[0][0]']                \n",
            "                                                                                                  \n",
            "==================================================================================================\n",
            "Total params: 1,006,337\n",
            "Trainable params: 1,006,337\n",
            "Non-trainable params: 0\n",
            "__________________________________________________________________________________________________\n"
          ]
        }
      ]
    },
    {
      "cell_type": "code",
      "source": [
        "# DataFrame \n",
        "df1 = pd.DataFrame(docs_names, columns =['Document_Name'])  \n",
        "df1['Document']= docs"
      ],
      "metadata": {
        "id": "nlunjQnWRbaN"
      },
      "execution_count": null,
      "outputs": []
    },
    {
      "cell_type": "code",
      "source": [
        "# p = K3[0].reshape(1,3930 )\n",
        "query_doc = query_doc.reshape(1,3930 )"
      ],
      "metadata": {
        "id": "hEvwz29MEBX8"
      },
      "execution_count": null,
      "outputs": []
    },
    {
      "cell_type": "code",
      "source": [
        "#reshaped_compress = []\n",
        "\n",
        "for i in range(len(compress)):\n",
        "  compress[i]= compress[i].reshape(1,3930)"
      ],
      "metadata": {
        "id": "y-7H6QRfWYXP"
      },
      "execution_count": null,
      "outputs": []
    },
    {
      "cell_type": "code",
      "source": [
        "df1['Cluster_id'] = y_kmeans\n",
        "df1['Embedding'] = compress\n",
        "df1"
      ],
      "metadata": {
        "colab": {
          "base_uri": "https://localhost:8080/",
          "height": 424
        },
        "id": "EOMazkxdRr8G",
        "outputId": "60415e15-69eb-42dc-c2e4-30c8bc4ceca9"
      },
      "execution_count": null,
      "outputs": [
        {
          "output_type": "execute_result",
          "data": {
            "text/plain": [
              "        Document_Name                                           Document  \\\n",
              "0    A00-1000.pdf.txt  Association for  Computational Linguistics  6 ...   \n",
              "1    A00-1001.pdf.txt  BusTUC - A natura l  l anguage bus  route  o r...   \n",
              "2    A00-1002.pdf.txt  Machine Translation of Very Close Languages  J...   \n",
              "3    A00-1003.pdf.txt  Abstract  Cross-Language Multimedia Informatio...   \n",
              "4    A00-1004.pdf.txt  Automatic construction of parallel English-Chi...   \n",
              "..                ...                                                ...   \n",
              "495  D13-1055.pdf.txt  Proceedings of the 2013 Conference on Empirica...   \n",
              "496  D13-1058.pdf.txt  Proceedings of the 2013 Conference on Empirica...   \n",
              "497  D13-1059.pdf.txt  Proceedings of the 2013 Conference on Empirica...   \n",
              "498  D13-1084.pdf.txt  Proceedings of the 2013 Conference on Empirica...   \n",
              "499  D12-1000.pdf.txt  EMNLP-CoNLL 2012 2012 Joint Conference on Empi...   \n",
              "\n",
              "     Cluster_id                                          Embedding  \n",
              "0             2  [[0.03391464, 0.055153094, 0.05591745, 0.05591...  \n",
              "1             1  [[0.03394446, 0.0551945, 0.055940278, 0.055917...  \n",
              "2             1  [[0.03395431, 0.055310123, 0.055972204, 0.0559...  \n",
              "3             1  [[0.033944298, 0.055194207, 0.05594011, 0.0559...  \n",
              "4             3  [[0.03446201, 0.05600162, 0.057609826, 0.05808...  \n",
              "..          ...                                                ...  \n",
              "495           4  [[0.034074504, 0.055279747, 0.056228824, 0.056...  \n",
              "496           4  [[0.03393403, 0.055159763, 0.055928327, 0.0559...  \n",
              "497           3  [[0.033910938, 0.0556609, 0.056407537, 0.05608...  \n",
              "498           0  [[0.03391464, 0.055153094, 0.05596827, 0.05621...  \n",
              "499           2  [[0.035370126, 0.060077526, 0.05591745, 0.0559...  \n",
              "\n",
              "[500 rows x 4 columns]"
            ],
            "text/html": [
              "\n",
              "  <div id=\"df-d7599944-ed19-459e-9abd-aa12390d4245\">\n",
              "    <div class=\"colab-df-container\">\n",
              "      <div>\n",
              "<style scoped>\n",
              "    .dataframe tbody tr th:only-of-type {\n",
              "        vertical-align: middle;\n",
              "    }\n",
              "\n",
              "    .dataframe tbody tr th {\n",
              "        vertical-align: top;\n",
              "    }\n",
              "\n",
              "    .dataframe thead th {\n",
              "        text-align: right;\n",
              "    }\n",
              "</style>\n",
              "<table border=\"1\" class=\"dataframe\">\n",
              "  <thead>\n",
              "    <tr style=\"text-align: right;\">\n",
              "      <th></th>\n",
              "      <th>Document_Name</th>\n",
              "      <th>Document</th>\n",
              "      <th>Cluster_id</th>\n",
              "      <th>Embedding</th>\n",
              "    </tr>\n",
              "  </thead>\n",
              "  <tbody>\n",
              "    <tr>\n",
              "      <th>0</th>\n",
              "      <td>A00-1000.pdf.txt</td>\n",
              "      <td>Association for  Computational Linguistics  6 ...</td>\n",
              "      <td>2</td>\n",
              "      <td>[[0.03391464, 0.055153094, 0.05591745, 0.05591...</td>\n",
              "    </tr>\n",
              "    <tr>\n",
              "      <th>1</th>\n",
              "      <td>A00-1001.pdf.txt</td>\n",
              "      <td>BusTUC - A natura l  l anguage bus  route  o r...</td>\n",
              "      <td>1</td>\n",
              "      <td>[[0.03394446, 0.0551945, 0.055940278, 0.055917...</td>\n",
              "    </tr>\n",
              "    <tr>\n",
              "      <th>2</th>\n",
              "      <td>A00-1002.pdf.txt</td>\n",
              "      <td>Machine Translation of Very Close Languages  J...</td>\n",
              "      <td>1</td>\n",
              "      <td>[[0.03395431, 0.055310123, 0.055972204, 0.0559...</td>\n",
              "    </tr>\n",
              "    <tr>\n",
              "      <th>3</th>\n",
              "      <td>A00-1003.pdf.txt</td>\n",
              "      <td>Abstract  Cross-Language Multimedia Informatio...</td>\n",
              "      <td>1</td>\n",
              "      <td>[[0.033944298, 0.055194207, 0.05594011, 0.0559...</td>\n",
              "    </tr>\n",
              "    <tr>\n",
              "      <th>4</th>\n",
              "      <td>A00-1004.pdf.txt</td>\n",
              "      <td>Automatic construction of parallel English-Chi...</td>\n",
              "      <td>3</td>\n",
              "      <td>[[0.03446201, 0.05600162, 0.057609826, 0.05808...</td>\n",
              "    </tr>\n",
              "    <tr>\n",
              "      <th>...</th>\n",
              "      <td>...</td>\n",
              "      <td>...</td>\n",
              "      <td>...</td>\n",
              "      <td>...</td>\n",
              "    </tr>\n",
              "    <tr>\n",
              "      <th>495</th>\n",
              "      <td>D13-1055.pdf.txt</td>\n",
              "      <td>Proceedings of the 2013 Conference on Empirica...</td>\n",
              "      <td>4</td>\n",
              "      <td>[[0.034074504, 0.055279747, 0.056228824, 0.056...</td>\n",
              "    </tr>\n",
              "    <tr>\n",
              "      <th>496</th>\n",
              "      <td>D13-1058.pdf.txt</td>\n",
              "      <td>Proceedings of the 2013 Conference on Empirica...</td>\n",
              "      <td>4</td>\n",
              "      <td>[[0.03393403, 0.055159763, 0.055928327, 0.0559...</td>\n",
              "    </tr>\n",
              "    <tr>\n",
              "      <th>497</th>\n",
              "      <td>D13-1059.pdf.txt</td>\n",
              "      <td>Proceedings of the 2013 Conference on Empirica...</td>\n",
              "      <td>3</td>\n",
              "      <td>[[0.033910938, 0.0556609, 0.056407537, 0.05608...</td>\n",
              "    </tr>\n",
              "    <tr>\n",
              "      <th>498</th>\n",
              "      <td>D13-1084.pdf.txt</td>\n",
              "      <td>Proceedings of the 2013 Conference on Empirica...</td>\n",
              "      <td>0</td>\n",
              "      <td>[[0.03391464, 0.055153094, 0.05596827, 0.05621...</td>\n",
              "    </tr>\n",
              "    <tr>\n",
              "      <th>499</th>\n",
              "      <td>D12-1000.pdf.txt</td>\n",
              "      <td>EMNLP-CoNLL 2012 2012 Joint Conference on Empi...</td>\n",
              "      <td>2</td>\n",
              "      <td>[[0.035370126, 0.060077526, 0.05591745, 0.0559...</td>\n",
              "    </tr>\n",
              "  </tbody>\n",
              "</table>\n",
              "<p>500 rows × 4 columns</p>\n",
              "</div>\n",
              "      <button class=\"colab-df-convert\" onclick=\"convertToInteractive('df-d7599944-ed19-459e-9abd-aa12390d4245')\"\n",
              "              title=\"Convert this dataframe to an interactive table.\"\n",
              "              style=\"display:none;\">\n",
              "        \n",
              "  <svg xmlns=\"http://www.w3.org/2000/svg\" height=\"24px\"viewBox=\"0 0 24 24\"\n",
              "       width=\"24px\">\n",
              "    <path d=\"M0 0h24v24H0V0z\" fill=\"none\"/>\n",
              "    <path d=\"M18.56 5.44l.94 2.06.94-2.06 2.06-.94-2.06-.94-.94-2.06-.94 2.06-2.06.94zm-11 1L8.5 8.5l.94-2.06 2.06-.94-2.06-.94L8.5 2.5l-.94 2.06-2.06.94zm10 10l.94 2.06.94-2.06 2.06-.94-2.06-.94-.94-2.06-.94 2.06-2.06.94z\"/><path d=\"M17.41 7.96l-1.37-1.37c-.4-.4-.92-.59-1.43-.59-.52 0-1.04.2-1.43.59L10.3 9.45l-7.72 7.72c-.78.78-.78 2.05 0 2.83L4 21.41c.39.39.9.59 1.41.59.51 0 1.02-.2 1.41-.59l7.78-7.78 2.81-2.81c.8-.78.8-2.07 0-2.86zM5.41 20L4 18.59l7.72-7.72 1.47 1.35L5.41 20z\"/>\n",
              "  </svg>\n",
              "      </button>\n",
              "      \n",
              "  <style>\n",
              "    .colab-df-container {\n",
              "      display:flex;\n",
              "      flex-wrap:wrap;\n",
              "      gap: 12px;\n",
              "    }\n",
              "\n",
              "    .colab-df-convert {\n",
              "      background-color: #E8F0FE;\n",
              "      border: none;\n",
              "      border-radius: 50%;\n",
              "      cursor: pointer;\n",
              "      display: none;\n",
              "      fill: #1967D2;\n",
              "      height: 32px;\n",
              "      padding: 0 0 0 0;\n",
              "      width: 32px;\n",
              "    }\n",
              "\n",
              "    .colab-df-convert:hover {\n",
              "      background-color: #E2EBFA;\n",
              "      box-shadow: 0px 1px 2px rgba(60, 64, 67, 0.3), 0px 1px 3px 1px rgba(60, 64, 67, 0.15);\n",
              "      fill: #174EA6;\n",
              "    }\n",
              "\n",
              "    [theme=dark] .colab-df-convert {\n",
              "      background-color: #3B4455;\n",
              "      fill: #D2E3FC;\n",
              "    }\n",
              "\n",
              "    [theme=dark] .colab-df-convert:hover {\n",
              "      background-color: #434B5C;\n",
              "      box-shadow: 0px 1px 3px 1px rgba(0, 0, 0, 0.15);\n",
              "      filter: drop-shadow(0px 1px 2px rgba(0, 0, 0, 0.3));\n",
              "      fill: #FFFFFF;\n",
              "    }\n",
              "  </style>\n",
              "\n",
              "      <script>\n",
              "        const buttonEl =\n",
              "          document.querySelector('#df-d7599944-ed19-459e-9abd-aa12390d4245 button.colab-df-convert');\n",
              "        buttonEl.style.display =\n",
              "          google.colab.kernel.accessAllowed ? 'block' : 'none';\n",
              "\n",
              "        async function convertToInteractive(key) {\n",
              "          const element = document.querySelector('#df-d7599944-ed19-459e-9abd-aa12390d4245');\n",
              "          const dataTable =\n",
              "            await google.colab.kernel.invokeFunction('convertToInteractive',\n",
              "                                                     [key], {});\n",
              "          if (!dataTable) return;\n",
              "\n",
              "          const docLinkHtml = 'Like what you see? Visit the ' +\n",
              "            '<a target=\"_blank\" href=https://colab.research.google.com/notebooks/data_table.ipynb>data table notebook</a>'\n",
              "            + ' to learn more about interactive tables.';\n",
              "          element.innerHTML = '';\n",
              "          dataTable['output_type'] = 'display_data';\n",
              "          await google.colab.output.renderOutput(dataTable, element);\n",
              "          const docLink = document.createElement('div');\n",
              "          docLink.innerHTML = docLinkHtml;\n",
              "          element.appendChild(docLink);\n",
              "        }\n",
              "      </script>\n",
              "    </div>\n",
              "  </div>\n",
              "  "
            ]
          },
          "metadata": {},
          "execution_count": 27
        }
      ]
    },
    {
      "cell_type": "code",
      "source": [
        "similarity_index = []\n",
        "source_doc_name=[]\n",
        "source_doc=[]\n",
        "for i in range(len(df1)):\n",
        "  if(df1['Cluster_id'][i])==k:\n",
        "    similarity_index.append(model.predict([query_doc, df1['Embedding'][i]]))\n",
        "    source_doc_name.append(df1['Document_Name'][i])\n",
        "    source_doc.append(df1['Document'][i]) "
      ],
      "metadata": {
        "id": "s_4GWe8QUWRq"
      },
      "execution_count": null,
      "outputs": []
    },
    {
      "cell_type": "code",
      "source": [
        "source_doc_name[0]"
      ],
      "metadata": {
        "id": "XPm92fUZPeMo"
      },
      "execution_count": null,
      "outputs": []
    },
    {
      "cell_type": "code",
      "source": [
        "similarity_index = np.array(similarity_index)\n",
        "similarity_index = similarity_index.flatten()"
      ],
      "metadata": {
        "id": "XnjGYGSVH21s"
      },
      "execution_count": null,
      "outputs": []
    },
    {
      "cell_type": "code",
      "source": [
        "max_ind = np.argsort(similarity_index)[::-1][:10]\n",
        "Document_Names=[source_doc_name[i] for i in max_ind]\n",
        "Document= [source_doc[i] for i in max_ind]\n",
        "Similarity_Index= similarity_index[max_ind]"
      ],
      "metadata": {
        "id": "aM5B2SjqHvu9"
      },
      "execution_count": null,
      "outputs": []
    },
    {
      "cell_type": "code",
      "source": [
        "Document_Names"
      ],
      "metadata": {
        "id": "FEIbeJloQdHu",
        "outputId": "0ceb3721-8160-4dae-f62e-a542c83aa038",
        "colab": {
          "base_uri": "https://localhost:8080/"
        }
      },
      "execution_count": null,
      "outputs": [
        {
          "output_type": "execute_result",
          "data": {
            "text/plain": [
              "['A88-1025.pdf.txt',\n",
              " 'A92-1005.pdf.txt',\n",
              " 'A94-1007.pdf.txt',\n",
              " 'A83-1020.pdf.txt',\n",
              " 'D08-1034.pdf.txt',\n",
              " 'A00-1005.pdf.txt',\n",
              " 'A83-1019.pdf.txt',\n",
              " 'A00-1002.pdf.txt',\n",
              " 'A88-1021.pdf.txt',\n",
              " 'A97-1046.pdf.txt']"
            ]
          },
          "metadata": {},
          "execution_count": 58
        }
      ]
    },
    {
      "cell_type": "code",
      "source": [
        "scores = np.array([100,67,92,87,66,89,76,22])\n",
        "\n",
        "# Getting indices of N = 3 maximum values\n",
        "x = np.argsort(scores)[::-1][:3]\n",
        "print(\"Indices:\",x)\n",
        "\n",
        "# Getting N maximum values\n",
        "print(\"Values:\",scores[x])"
      ],
      "metadata": {
        "colab": {
          "base_uri": "https://localhost:8080/"
        },
        "id": "6nBficdtLeLn",
        "outputId": "1272c6c0-b2dc-4064-e4a0-bdaec8cf712b"
      },
      "execution_count": null,
      "outputs": [
        {
          "output_type": "stream",
          "name": "stdout",
          "text": [
            "Indices: [0 2 5]\n",
            "Values: [100  92  89]\n"
          ]
        }
      ]
    },
    {
      "cell_type": "code",
      "source": [
        "df2 = pd.DataFrame(source_doc_name, columns =['Document_Name'])  \n",
        "df2['Document']= source_doc\n",
        "df2['Similarity Index']= similarity_index"
      ],
      "metadata": {
        "id": "7oawPVKccIY-"
      },
      "execution_count": null,
      "outputs": []
    },
    {
      "cell_type": "code",
      "source": [
        "df2"
      ],
      "metadata": {
        "colab": {
          "base_uri": "https://localhost:8080/",
          "height": 424
        },
        "id": "Ts_AVkqYX_z-",
        "outputId": "aec2cb7a-0399-4627-e538-6ee36d7a3b04"
      },
      "execution_count": null,
      "outputs": [
        {
          "output_type": "execute_result",
          "data": {
            "text/plain": [
              "       Document_Name                                           Document  \\\n",
              "0   A00-1001.pdf.txt  BusTUC - A natura l  l anguage bus  route  o r...   \n",
              "1   A00-1002.pdf.txt  Machine Translation of Very Close Languages  J...   \n",
              "2   A00-1003.pdf.txt  Abstract  Cross-Language Multimedia Informatio...   \n",
              "3   A00-1006.pdf.txt  Translation using Information on Dialogue Part...   \n",
              "4   A00-1005.pdf.txt  PartslD: A Dialogue-Based System for Identifyi...   \n",
              "..               ...                                                ...   \n",
              "78  D09-1136.pdf.txt  Proceedings of the 2009 Conference on Empirica...   \n",
              "79  D09-1142.pdf.txt  Proceedings of the 2009 Conference on Empirica...   \n",
              "80  D09-1145.pdf.txt  Proceedings of the 2009 Conference on Empirica...   \n",
              "81  D12-1008.pdf.txt  Proceedings of the 2012 Joint Conference on Em...   \n",
              "82  D12-1026.pdf.txt  Proceedings of the 2012 Joint Conference on Em...   \n",
              "\n",
              "   Similarity Index  \n",
              "0    [[0.29583427]]  \n",
              "1    [[0.31488106]]  \n",
              "2     [[0.2799939]]  \n",
              "3     [[0.2497865]]  \n",
              "4    [[0.32182938]]  \n",
              "..              ...  \n",
              "78   [[0.25212586]]  \n",
              "79   [[0.27874833]]  \n",
              "80   [[0.29945737]]  \n",
              "81   [[0.28372908]]  \n",
              "82   [[0.24285682]]  \n",
              "\n",
              "[83 rows x 3 columns]"
            ],
            "text/html": [
              "\n",
              "  <div id=\"df-21ed2663-6430-4300-a2cc-082a254eca19\">\n",
              "    <div class=\"colab-df-container\">\n",
              "      <div>\n",
              "<style scoped>\n",
              "    .dataframe tbody tr th:only-of-type {\n",
              "        vertical-align: middle;\n",
              "    }\n",
              "\n",
              "    .dataframe tbody tr th {\n",
              "        vertical-align: top;\n",
              "    }\n",
              "\n",
              "    .dataframe thead th {\n",
              "        text-align: right;\n",
              "    }\n",
              "</style>\n",
              "<table border=\"1\" class=\"dataframe\">\n",
              "  <thead>\n",
              "    <tr style=\"text-align: right;\">\n",
              "      <th></th>\n",
              "      <th>Document_Name</th>\n",
              "      <th>Document</th>\n",
              "      <th>Similarity Index</th>\n",
              "    </tr>\n",
              "  </thead>\n",
              "  <tbody>\n",
              "    <tr>\n",
              "      <th>0</th>\n",
              "      <td>A00-1001.pdf.txt</td>\n",
              "      <td>BusTUC - A natura l  l anguage bus  route  o r...</td>\n",
              "      <td>[[0.29583427]]</td>\n",
              "    </tr>\n",
              "    <tr>\n",
              "      <th>1</th>\n",
              "      <td>A00-1002.pdf.txt</td>\n",
              "      <td>Machine Translation of Very Close Languages  J...</td>\n",
              "      <td>[[0.31488106]]</td>\n",
              "    </tr>\n",
              "    <tr>\n",
              "      <th>2</th>\n",
              "      <td>A00-1003.pdf.txt</td>\n",
              "      <td>Abstract  Cross-Language Multimedia Informatio...</td>\n",
              "      <td>[[0.2799939]]</td>\n",
              "    </tr>\n",
              "    <tr>\n",
              "      <th>3</th>\n",
              "      <td>A00-1006.pdf.txt</td>\n",
              "      <td>Translation using Information on Dialogue Part...</td>\n",
              "      <td>[[0.2497865]]</td>\n",
              "    </tr>\n",
              "    <tr>\n",
              "      <th>4</th>\n",
              "      <td>A00-1005.pdf.txt</td>\n",
              "      <td>PartslD: A Dialogue-Based System for Identifyi...</td>\n",
              "      <td>[[0.32182938]]</td>\n",
              "    </tr>\n",
              "    <tr>\n",
              "      <th>...</th>\n",
              "      <td>...</td>\n",
              "      <td>...</td>\n",
              "      <td>...</td>\n",
              "    </tr>\n",
              "    <tr>\n",
              "      <th>78</th>\n",
              "      <td>D09-1136.pdf.txt</td>\n",
              "      <td>Proceedings of the 2009 Conference on Empirica...</td>\n",
              "      <td>[[0.25212586]]</td>\n",
              "    </tr>\n",
              "    <tr>\n",
              "      <th>79</th>\n",
              "      <td>D09-1142.pdf.txt</td>\n",
              "      <td>Proceedings of the 2009 Conference on Empirica...</td>\n",
              "      <td>[[0.27874833]]</td>\n",
              "    </tr>\n",
              "    <tr>\n",
              "      <th>80</th>\n",
              "      <td>D09-1145.pdf.txt</td>\n",
              "      <td>Proceedings of the 2009 Conference on Empirica...</td>\n",
              "      <td>[[0.29945737]]</td>\n",
              "    </tr>\n",
              "    <tr>\n",
              "      <th>81</th>\n",
              "      <td>D12-1008.pdf.txt</td>\n",
              "      <td>Proceedings of the 2012 Joint Conference on Em...</td>\n",
              "      <td>[[0.28372908]]</td>\n",
              "    </tr>\n",
              "    <tr>\n",
              "      <th>82</th>\n",
              "      <td>D12-1026.pdf.txt</td>\n",
              "      <td>Proceedings of the 2012 Joint Conference on Em...</td>\n",
              "      <td>[[0.24285682]]</td>\n",
              "    </tr>\n",
              "  </tbody>\n",
              "</table>\n",
              "<p>83 rows × 3 columns</p>\n",
              "</div>\n",
              "      <button class=\"colab-df-convert\" onclick=\"convertToInteractive('df-21ed2663-6430-4300-a2cc-082a254eca19')\"\n",
              "              title=\"Convert this dataframe to an interactive table.\"\n",
              "              style=\"display:none;\">\n",
              "        \n",
              "  <svg xmlns=\"http://www.w3.org/2000/svg\" height=\"24px\"viewBox=\"0 0 24 24\"\n",
              "       width=\"24px\">\n",
              "    <path d=\"M0 0h24v24H0V0z\" fill=\"none\"/>\n",
              "    <path d=\"M18.56 5.44l.94 2.06.94-2.06 2.06-.94-2.06-.94-.94-2.06-.94 2.06-2.06.94zm-11 1L8.5 8.5l.94-2.06 2.06-.94-2.06-.94L8.5 2.5l-.94 2.06-2.06.94zm10 10l.94 2.06.94-2.06 2.06-.94-2.06-.94-.94-2.06-.94 2.06-2.06.94z\"/><path d=\"M17.41 7.96l-1.37-1.37c-.4-.4-.92-.59-1.43-.59-.52 0-1.04.2-1.43.59L10.3 9.45l-7.72 7.72c-.78.78-.78 2.05 0 2.83L4 21.41c.39.39.9.59 1.41.59.51 0 1.02-.2 1.41-.59l7.78-7.78 2.81-2.81c.8-.78.8-2.07 0-2.86zM5.41 20L4 18.59l7.72-7.72 1.47 1.35L5.41 20z\"/>\n",
              "  </svg>\n",
              "      </button>\n",
              "      \n",
              "  <style>\n",
              "    .colab-df-container {\n",
              "      display:flex;\n",
              "      flex-wrap:wrap;\n",
              "      gap: 12px;\n",
              "    }\n",
              "\n",
              "    .colab-df-convert {\n",
              "      background-color: #E8F0FE;\n",
              "      border: none;\n",
              "      border-radius: 50%;\n",
              "      cursor: pointer;\n",
              "      display: none;\n",
              "      fill: #1967D2;\n",
              "      height: 32px;\n",
              "      padding: 0 0 0 0;\n",
              "      width: 32px;\n",
              "    }\n",
              "\n",
              "    .colab-df-convert:hover {\n",
              "      background-color: #E2EBFA;\n",
              "      box-shadow: 0px 1px 2px rgba(60, 64, 67, 0.3), 0px 1px 3px 1px rgba(60, 64, 67, 0.15);\n",
              "      fill: #174EA6;\n",
              "    }\n",
              "\n",
              "    [theme=dark] .colab-df-convert {\n",
              "      background-color: #3B4455;\n",
              "      fill: #D2E3FC;\n",
              "    }\n",
              "\n",
              "    [theme=dark] .colab-df-convert:hover {\n",
              "      background-color: #434B5C;\n",
              "      box-shadow: 0px 1px 3px 1px rgba(0, 0, 0, 0.15);\n",
              "      filter: drop-shadow(0px 1px 2px rgba(0, 0, 0, 0.3));\n",
              "      fill: #FFFFFF;\n",
              "    }\n",
              "  </style>\n",
              "\n",
              "      <script>\n",
              "        const buttonEl =\n",
              "          document.querySelector('#df-21ed2663-6430-4300-a2cc-082a254eca19 button.colab-df-convert');\n",
              "        buttonEl.style.display =\n",
              "          google.colab.kernel.accessAllowed ? 'block' : 'none';\n",
              "\n",
              "        async function convertToInteractive(key) {\n",
              "          const element = document.querySelector('#df-21ed2663-6430-4300-a2cc-082a254eca19');\n",
              "          const dataTable =\n",
              "            await google.colab.kernel.invokeFunction('convertToInteractive',\n",
              "                                                     [key], {});\n",
              "          if (!dataTable) return;\n",
              "\n",
              "          const docLinkHtml = 'Like what you see? Visit the ' +\n",
              "            '<a target=\"_blank\" href=https://colab.research.google.com/notebooks/data_table.ipynb>data table notebook</a>'\n",
              "            + ' to learn more about interactive tables.';\n",
              "          element.innerHTML = '';\n",
              "          dataTable['output_type'] = 'display_data';\n",
              "          await google.colab.output.renderOutput(dataTable, element);\n",
              "          const docLink = document.createElement('div');\n",
              "          docLink.innerHTML = docLinkHtml;\n",
              "          element.appendChild(docLink);\n",
              "        }\n",
              "      </script>\n",
              "    </div>\n",
              "  </div>\n",
              "  "
            ]
          },
          "metadata": {},
          "execution_count": 30
        }
      ]
    }
  ],
  "metadata": {
    "colab": {
      "collapsed_sections": [],
      "name": "Clustering.ipynb",
      "provenance": []
    },
    "kernelspec": {
      "display_name": "Python 3",
      "name": "python3"
    },
    "language_info": {
      "name": "python"
    }
  },
  "nbformat": 4,
  "nbformat_minor": 0
}