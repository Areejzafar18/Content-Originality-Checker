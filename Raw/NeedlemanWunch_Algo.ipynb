{
  "nbformat": 4,
  "nbformat_minor": 0,
  "metadata": {
    "colab": {
      "name": "NeedlemanWunch-Algo.ipynb",
      "provenance": [],
      "collapsed_sections": []
    },
    "kernelspec": {
      "name": "python3",
      "display_name": "Python 3"
    },
    "language_info": {
      "name": "python"
    }
  },
  "cells": [
    {
      "cell_type": "code",
      "execution_count": null,
      "metadata": {
        "id": "BQFNQpAlboDl"
      },
      "outputs": [],
      "source": [
        "# Importing Modules\n",
        "import numpy as np\n",
        "import os"
      ]
    },
    {
      "cell_type": "code",
      "source": [
        "#Alignment Score Matrix\n",
        "score_mat={}"
      ],
      "metadata": {
        "id": "d4C6_2QWl4GC"
      },
      "execution_count": null,
      "outputs": []
    },
    {
      "cell_type": "code",
      "source": [
        "def mat(sequence_1, f, sequence_2):\n",
        "\n",
        "  len_s1=len(sequence_1)\n",
        "  len_s2=len(sequence_2)\n",
        "\n",
        "  main_matrix = np.zeros((len(sequence_1)+1,len(sequence_2)+1))\n",
        "  match_checker_matrix = np.zeros((len(sequence_1),len(sequence_2)))\n",
        "\n",
        "  # scores for match ,mismatch and gap\n",
        "  match_reward = 1\n",
        "  mismatch_penalty = -1\n",
        "  gap_penalty = -2\n",
        "\n",
        "  #Fill the match checker matrix accrording to match or mismatch\n",
        "  for i in range(len(sequence_1)):\n",
        "    for j in range(len(sequence_2)):\n",
        "      if sequence_1[i] == sequence_2[j]:\n",
        "        match_checker_matrix[i][j]= match_reward\n",
        "      else:\n",
        "        match_checker_matrix[i][j]= mismatch_penalty\n",
        "  #print(match_checker_matrix)\n",
        "\n",
        "  #Filling up the matrix using Needleman_Wunsch algorithm\n",
        "  #STEP 1 : Initialisation\n",
        "  for i in range(len(sequence_1)+1):\n",
        "    main_matrix[i][0] = i * gap_penalty\n",
        "  for j in range(len(sequence_2)+1):\n",
        "    main_matrix[0][j] = j * gap_penalty\n",
        "\n",
        "  #STEP 2 : Matrix Filling\n",
        "  for i in range(1,len(sequence_1)+1):\n",
        "    for j in range(1,len(sequence_2)+1):\n",
        "        main_matrix[i][j] = max(main_matrix[i-1][j-1]+match_checker_matrix[i-1][j-1],\n",
        "                                main_matrix[i-1][j]+gap_penalty,\n",
        "                                main_matrix[i][j-1]+ gap_penalty)\n",
        "  #alignment score\n",
        "  score=main_matrix[len_s1][len_s2]\n",
        "  print(score)\n",
        "  print(f)\n",
        "  score_mat[f]=score\n",
        "\n",
        "  # STEP 3 : Traceback\n",
        "\n",
        "  aligned_1 = \"\"\n",
        "  aligned_2 = \"\"\n",
        "\n",
        "  ti = len(sequence_1)\n",
        "  tj = len(sequence_2)\n",
        "\n",
        "  while(ti >0 and tj > 0):\n",
        "    \n",
        "    if (ti >0 and tj > 0 and main_matrix[ti][tj] == main_matrix[ti-1][tj-1]+ match_checker_matrix[ti-1][tj-1]):\n",
        "\n",
        "        aligned_1 = sequence_1[ti-1] + aligned_1\n",
        "        aligned_2 = sequence_2[tj-1] + aligned_2\n",
        "\n",
        "        ti = ti - 1\n",
        "        tj = tj - 1\n",
        "    \n",
        "    elif(ti > 0 and main_matrix[ti][tj] == main_matrix[ti-1][tj] + gap_penalty):\n",
        "        aligned_1 = sequence_1[ti-1] + aligned_1\n",
        "        aligned_2 = \"-\" + aligned_2\n",
        "\n",
        "        ti = ti -1\n",
        "    else:\n",
        "        aligned_1 = \"-\" + aligned_1\n",
        "        aligned_2 = sequence_2[tj-1] + aligned_2\n",
        "\n",
        "        tj = tj - 1\n",
        "\n",
        "  #test\n",
        "  #print(aligned_1)\n",
        "  #print(aligned_2)"
      ],
      "metadata": {
        "id": "Zbze1y9ybuG7"
      },
      "execution_count": null,
      "outputs": []
    },
    {
      "cell_type": "code",
      "source": [
        "with open('/content/drive/MyDrive/fyp/file1.txt') as f:\n",
        "    sequence_1 = f.read()\n",
        "    print(sequence_1)\n",
        "sequence_1 = sequence_1.replace(\" \",\"\")    "
      ],
      "metadata": {
        "colab": {
          "base_uri": "https://localhost:8080/"
        },
        "id": "7EXStta7kHnD",
        "outputId": "da8aa209-c0b3-4597-dc8d-11035aa7cb5a"
      },
      "execution_count": null,
      "outputs": [
        {
          "output_type": "stream",
          "name": "stdout",
          "text": [
            "this is a piece of text which is copied from another piece of text\n"
          ]
        }
      ]
    },
    {
      "cell_type": "code",
      "source": [
        "import os\n",
        " \n",
        "#Dictionary\n",
        "dict={}\n",
        "\n",
        "path=\"/content/drive/MyDrive/fyp/TextFiles2\"\n",
        "dir_list = os.listdir(path)\n",
        "\n",
        "for f in dir_list:\n",
        "  with open(path+\"/\"+f, \"r\", encoding='cp1252') as file:\n",
        "    data = file.read()\n",
        "    dict[f]=data;\n",
        "    #print(f)\n",
        "\n",
        "#print(dict['D13-1080.pdf.txt'])\n",
        "\n",
        "for key in dict:\n",
        "  mat(sequence_1, key, dict[key])"
      ],
      "metadata": {
        "colab": {
          "base_uri": "https://localhost:8080/"
        },
        "id": "jJhQOlNkfi8x",
        "outputId": "22e7d715-eb4f-4a83-f87f-28bd626dd2d4"
      },
      "execution_count": null,
      "outputs": [
        {
          "output_type": "stream",
          "name": "stdout",
          "text": [
            "-44851.0\n",
            "D13-1080.pdf.txt\n",
            "-41431.0\n",
            "D13-1081.pdf.txt\n",
            "-44409.0\n",
            "D13-1082.pdf.txt\n",
            "-44011.0\n",
            "D13-1083.pdf.txt\n",
            "-45563.0\n",
            "D13-1084.pdf.txt\n"
          ]
        }
      ]
    },
    {
      "cell_type": "code",
      "source": [
        "print(score_mat['D13-1080.pdf.txt'])"
      ],
      "metadata": {
        "colab": {
          "base_uri": "https://localhost:8080/"
        },
        "id": "uY3X79mGxYRi",
        "outputId": "d9bf933c-a5a0-4991-e4d4-c01954b9917d"
      },
      "execution_count": null,
      "outputs": [
        {
          "output_type": "stream",
          "name": "stdout",
          "text": [
            "-44851.0\n"
          ]
        }
      ]
    }
  ]
}