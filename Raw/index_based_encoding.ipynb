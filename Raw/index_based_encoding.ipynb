{
  "cells": [
    {
      "cell_type": "code",
      "execution_count": null,
      "metadata": {
        "id": "cp1BNegrUx6J"
      },
      "outputs": [],
      "source": [
        "import numpy as np\n",
        "\n",
        "from sklearn.feature_extraction.text import TfidfVectorizer\n",
        "from sklearn.feature_extraction.text import CountVectorizer\n",
        "from sklearn.metrics.pairwise import cosine_similarity"
      ]
    },
    {
      "cell_type": "code",
      "execution_count": null,
      "metadata": {
        "colab": {
          "base_uri": "https://localhost:8080/"
        },
        "id": "XTKceQKrVQmP",
        "outputId": "4f57153e-4961-49ea-bd27-42ce2609bfef"
      },
      "outputs": [
        {
          "output_type": "stream",
          "name": "stdout",
          "text": [
            "Mounted at /content/drive\n"
          ]
        }
      ],
      "source": [
        "from google.colab import drive\n",
        "drive.mount('/content/drive')"
      ]
    },
    {
      "cell_type": "code",
      "execution_count": null,
      "metadata": {
        "colab": {
          "base_uri": "https://localhost:8080/"
        },
        "id": "1pIJRY8tA8l-",
        "outputId": "9cfaca11-b01b-4fff-9715-4cbe6f46e9da"
      },
      "outputs": [
        {
          "output_type": "stream",
          "name": "stdout",
          "text": [
            "['source-document00208.txt', 'source-document00302.txt', 'source-document00354.txt', 'source-document00055.txt', 'source-document00494.txt', 'source-document00194.txt', 'source-document00229.txt', 'source-document00488.txt', 'source-document00284.txt', 'source-document00262.txt', 'source-document00431.txt', 'source-document00166.txt', 'source-document00014.txt', 'source-document00067.txt', 'source-document00066.txt', 'source-document00084.txt', 'source-document00037.txt', 'source-document00272.txt', 'source-document00080.txt', 'source-document00144.txt', 'source-document00450.txt', 'source-document00306.txt', 'source-document00313.txt', 'source-document00458.txt', 'source-document00462.txt', 'source-document00045.txt', 'source-document00123.txt', 'source-document00020.txt', 'source-document00114.txt', 'source-document00146.txt', 'source-document00122.txt', 'source-document00481.txt', 'source-document00286.txt', 'source-document00250.txt', 'source-document00243.txt', 'source-document00089.txt', 'source-document00099.txt', 'source-document00188.txt', 'source-document00201.txt', 'source-document00049.txt', 'source-document00266.txt', 'source-document00489.txt', 'source-document00471.txt', 'source-document00107.txt', 'source-document00222.txt', 'source-document00288.txt', 'source-document00421.txt', 'source-document00051.txt', 'source-document00140.txt', 'source-document00427.txt', 'source-document00118.txt', 'source-document00382 (1).txt', 'source-document00382.txt', 'source-document00057.txt', 'source-document00025.txt', 'source-document00332.txt', 'source-document00352.txt', 'source-document00136.txt', 'source-document00059.txt', 'source-document00282.txt', 'source-document00402.txt', 'source-document00311.txt', 'source-document00473.txt', 'source-document00428.txt', 'source-document00182.txt', 'source-document00105.txt', 'source-document00307.txt', 'source-document00446.txt', 'source-document00237.txt', 'source-document00175.txt', 'source-document00461.txt', 'source-document00298.txt', 'source-document00277.txt', 'source-document00259.txt', 'source-document00342.txt', 'source-document00372.txt', 'source-document00103.txt', 'source-document00333.txt', 'source-document00125.txt', 'source-document00464.txt', 'source-document00038.txt', 'source-document00190.txt', 'source-document00415.txt', 'source-document00227.txt', 'source-document00246.txt', 'source-document00205.txt', 'source-document00157.txt', 'source-document00497.txt', 'source-document00258.txt', 'source-document00312.txt', 'source-document00092.txt', 'source-document00270.txt', 'source-document00444.txt', 'source-document00456.txt', 'source-document00009.txt', 'source-document00314.txt', 'source-document00040.txt', 'source-document00011.txt', 'source-document00064.txt', 'source-document00221.txt', 'source-document00026.txt', 'source-document00046.txt', 'source-document00211.txt', 'source-document00392.txt', 'source-document00472.txt', 'source-document00056.txt', 'source-document00394.txt', 'source-document00347.txt', 'source-document00279.txt', 'source-document00491.txt', 'source-document00212.txt', 'source-document00478.txt', 'source-document00426.txt', 'source-document00181.txt', 'source-document00452.txt', 'source-document00482.txt', 'source-document00388.txt', 'source-document00356.txt', 'source-document00299.txt', 'source-document00197.txt', 'source-document00206.txt', 'source-document00349.txt', 'source-document00052.txt', 'source-document00274.txt', 'source-document00325.txt', 'source-document00377 (1).txt', 'source-document00377.txt', 'source-document00261.txt', 'source-document00329.txt', 'source-document00468.txt', 'source-document00163.txt', 'source-document00252.txt', 'source-document00228.txt', 'source-document00230.txt', 'source-document00283.txt', 'source-document00130.txt', 'source-document00124.txt', 'source-document00484.txt', 'source-document00085.txt', 'source-document00492.txt', 'source-document00019.txt', 'source-document00091.txt', 'source-document00172.txt', 'source-document00117.txt', 'source-document00095.txt', 'source-document00363.txt', 'source-document00063.txt', 'source-document00327.txt', 'source-document00210.txt', 'source-document00069.txt', 'source-document00072.txt', 'source-document00396.txt', 'source-document00408.txt', 'source-document00109.txt', 'source-document00251.txt', 'source-document00324.txt', 'source-document00127.txt', 'source-document00249.txt', 'source-document00108.txt', 'source-document00479.txt', 'source-document00389.txt', 'source-document00242.txt', 'source-document00268.txt', 'source-document00160.txt', 'source-document00370.txt', 'source-document00296.txt', 'source-document00235.txt', 'source-document00336.txt', 'source-document00198.txt', 'source-document00260.txt', 'source-document00326.txt', 'source-document00111.txt', 'source-document00419.txt', 'source-document00403.txt', 'source-document00271.txt', 'source-document00442.txt', 'source-document00215.txt', 'source-document00371.txt', 'source-document00385.txt', 'source-document00483.txt', 'source-document00376 (1).txt', 'source-document00376.txt', 'source-document00423.txt', 'source-document00170.txt', 'source-document00477.txt', 'source-document00032.txt', 'source-document00165.txt', 'source-document00411.txt', 'source-document00267.txt', 'source-document00209.txt', 'source-document00263.txt', 'source-document00439.txt', 'source-document00036.txt', 'source-document00319.txt', 'source-document00155.txt', 'source-document00093.txt', 'source-document00096.txt', 'source-document00001.txt', 'source-document00131.txt', 'source-document00459.txt', 'source-document00041.txt', 'source-document00176.txt', 'source-document00088.txt', 'source-document00154.txt', 'source-document00429.txt', 'source-document00220.txt', 'source-document00082.txt', 'source-document00129.txt', 'source-document00047.txt', 'source-document00339.txt', 'source-document00223.txt', 'source-document00320.txt', 'source-document00381 (1).txt', 'source-document00381.txt', 'source-document00023.txt', 'source-document00139.txt', 'source-document00441.txt', 'source-document00094.txt', 'source-document00366.txt', 'source-document00241.txt', 'source-document00133.txt', 'source-document00134.txt', 'source-document00469.txt', 'source-document00115.txt', 'source-document00167.txt', 'source-document00309.txt', 'source-document00454.txt', 'source-document00207.txt', 'source-document00101.txt', 'source-document00308.txt', 'source-document00005.txt', 'source-document00443.txt', 'source-document00189.txt', 'source-document00224.txt', 'source-document00437.txt', 'source-document00248.txt', 'source-document00475.txt', 'source-document00171.txt', 'source-document00137.txt', 'source-document00383 (1).txt', 'source-document00383.txt', 'source-document00398.txt', 'source-document00496.txt', 'source-document00359.txt', 'source-document00073.txt', 'source-document00013.txt', 'source-document00112.txt', 'source-document00128.txt', 'source-document00455.txt', 'source-document00353.txt', 'source-document00110.txt', 'source-document00081.txt', 'source-document00315.txt', 'source-document00386.txt', 'source-document00097.txt', 'source-document00375 (1).txt', 'source-document00375.txt', 'source-document00233.txt', 'source-document00102.txt', 'source-document00054.txt', 'source-document00387.txt', 'source-document00174.txt', 'source-document00147.txt', 'source-document00280.txt', 'source-document00485.txt', 'source-document00435.txt', 'source-document00334.txt', 'source-document00098.txt', 'source-document00179.txt', 'source-document00301.txt', 'source-document00310.txt', 'source-document00185.txt', 'source-document00295.txt', 'source-document00373.txt', 'source-document00053.txt', 'source-document00006.txt', 'source-document00466.txt', 'source-document00300.txt', 'source-document00445.txt', 'source-document00141.txt', 'source-document00425.txt', 'source-document00304.txt', 'source-document00058.txt', 'source-document00335.txt', 'source-document00367.txt', 'source-document00276.txt', 'source-document00044.txt', 'source-document00409.txt', 'source-document00173.txt', 'source-document00203.txt', 'source-document00257.txt', 'source-document00404.txt', 'source-document00039.txt', 'source-document00358.txt', 'source-document00149.txt', 'source-document00448.txt', 'source-document00018.txt', 'source-document00420.txt', 'source-document00113.txt', 'source-document00076.txt', 'source-document00395.txt', 'source-document00417.txt', 'source-document00008.txt', 'source-document00042.txt', 'source-document00430.txt', 'source-document00418.txt', 'source-document00369.txt', 'source-document00362.txt', 'source-document00121.txt', 'source-document00183.txt', 'source-document00164.txt', 'source-document00245.txt', 'source-document00486.txt', 'source-document00060.txt', 'source-document00346.txt', 'source-document00330.txt', 'source-document00156.txt', 'source-document00440.txt', 'source-document00463.txt', 'source-document00169.txt', 'source-document00348.txt', 'source-document00278.txt', 'source-document00474.txt', 'source-document00380 (1).txt', 'source-document00380.txt', 'source-document00145.txt', 'source-document00290.txt', 'source-document00217.txt', 'source-document00225.txt', 'source-document00412.txt', 'source-document00031.txt', 'source-document00120.txt', 'source-document00106.txt', 'source-document00424.txt', 'source-document00390.txt', 'source-document00361.txt', 'source-document00142.txt', 'source-document00265.txt', 'source-document00219.txt', 'source-document00071.txt', 'source-document00405.txt', 'source-document00015.txt', 'source-document00457.txt', 'source-document00007.txt', 'source-document00467.txt', 'source-document00323.txt', 'source-document00002.txt', 'source-document00253.txt', 'source-document00234.txt', 'source-document00034.txt', 'source-document00294.txt', 'source-document00341.txt', 'source-document00100.txt', 'source-document00422.txt', 'source-document00434.txt', 'source-document00449.txt', 'source-document00216.txt', 'source-document00495.txt', 'source-document00178.txt', 'source-document00079.txt', 'source-document00410.txt', 'source-document00291.txt', 'source-document00476.txt', 'source-document00338.txt', 'source-document00232.txt', 'source-document00104.txt', 'source-document00413.txt', 'source-document00451.txt', 'source-document00191.txt', 'source-document00337.txt', 'source-document00226.txt', 'source-document00239.txt', 'source-document00159.txt', 'source-document00350.txt', 'source-document00364.txt', 'source-document00075.txt', 'source-document00357.txt', 'source-document00244.txt', 'source-document00236.txt', 'source-document00143.txt', 'source-document00293.txt', 'source-document00090.txt', 'source-document00480.txt', 'source-document00199.txt', 'source-document00238.txt', 'source-document00499.txt', 'source-document00193.txt', 'source-document00138.txt', 'source-document00218.txt', 'source-document00436.txt', 'source-document00365.txt', 'source-document00303.txt', 'source-document00021.txt', 'source-document00200.txt', 'source-document00247.txt', 'source-document00065.txt', 'source-document00401.txt', 'source-document00343.txt', 'source-document00135.txt', 'source-document00192.txt', 'source-document00322.txt', 'source-document00033.txt', 'source-document00374 (1).txt', 'source-document00351.txt', 'source-document00374.txt', 'source-document00345.txt', 'source-document00083.txt', 'source-document00490.txt', 'source-document00331.txt', 'source-document00391.txt', 'source-document00151.txt', 'source-document00281.txt', 'source-document00186.txt', 'source-document00177.txt', 'source-document00204.txt', 'source-document00273.txt', 'source-document00447.txt', 'source-document00195.txt', 'source-document00360.txt', 'source-document00317.txt', 'source-document00180.txt', 'source-document00500.txt', 'source-document00287.txt', 'source-document00470.txt', 'source-document00004.txt', 'source-document00184.txt', 'source-document00368.txt', 'source-document00384.txt', 'source-document00255.txt', 'source-document00379 (1).txt', 'source-document00061.txt', 'source-document00043.txt', 'source-document00379.txt', 'source-document00292.txt', 'source-document00240.txt', 'source-document00393.txt', 'source-document00378 (1).txt', 'source-document00378.txt', 'source-document00285.txt', 'source-document00150.txt', 'source-document00158.txt', 'source-document00116.txt', 'source-document00414.txt', 'source-document00126.txt', 'source-document00016.txt', 'source-document00196.txt', 'source-document00498.txt', 'source-document00355.txt', 'source-document00487.txt', 'source-document00416.txt', 'source-document00400.txt', 'source-document00068.txt', 'source-document00010.txt', 'source-document00321.txt', 'source-document00017.txt', 'source-document00078.txt', 'source-document00316.txt', 'source-document00148.txt', 'source-document00035.txt', 'source-document00028.txt', 'source-document00012.txt', 'source-document00465.txt', 'source-document00003.txt', 'source-document00493.txt', 'source-document00132.txt', 'source-document00406.txt', 'source-document00168.txt', 'source-document00275.txt', 'source-document00077.txt', 'source-document00029.txt', 'source-document00087.txt', 'source-document00399.txt', 'source-document00214.txt', 'source-document00213.txt', 'source-document00256.txt', 'source-document00062.txt', 'source-document00030.txt', 'source-document00438.txt', 'source-document00153.txt', 'source-document00086.txt', 'source-document00024.txt', 'source-document00340.txt', 'source-document00161.txt', 'source-document00202.txt', 'source-document00432.txt', 'source-document00344.txt', 'source-document00453.txt', 'source-document00070.txt', 'source-document00289.txt', 'source-document00254.txt', 'source-document00433.txt', 'source-document00119.txt', 'source-document00297.txt', 'source-document00397.txt', 'source-document00328.txt', 'source-document00074.txt', 'source-document00407.txt', 'source-document00264.txt', 'source-document00152.txt', 'source-document00162.txt', 'source-document00187.txt', 'source-document00318.txt', 'source-document00050.txt', 'source-document00305.txt', 'source-document00022.txt', 'source-document00027.txt', 'source-document00048.txt', 'source-document00269.txt', 'source-document00231.txt', 'source-document00460.txt']\n"
          ]
        }
      ],
      "source": [
        "import os\n",
        " \n",
        "#Dictionary\n",
        "docs=[]\n",
        "docs_names=[]\n",
        "\n",
        "path=\"/content/drive/MyDrive/fyp/part1\"\n",
        "dir_list = os.listdir(path)\n",
        "print(dir_list)\n",
        "\n",
        "for f in dir_list:\n",
        "  with open(path+\"/\"+f, \"r\", encoding='utf-8') as file:\n",
        "    data = file.read()\n",
        "  data = data.replace(\"\\n\",\" \")\n",
        "  docs.append(data)\n",
        "  docs_names.append(f)\n",
        "  #print(f)"
      ]
    },
    {
      "cell_type": "code",
      "execution_count": null,
      "metadata": {
        "colab": {
          "base_uri": "https://localhost:8080/"
        },
        "id": "GRs5H1vPCfO3",
        "outputId": "173e2697-140b-46bd-b9a0-f0c814f32a54"
      },
      "outputs": [
        {
          "output_type": "stream",
          "name": "stdout",
          "text": [
            "[nltk_data] Downloading package punkt to /root/nltk_data...\n",
            "[nltk_data]   Unzipping tokenizers/punkt.zip.\n",
            "[nltk_data] Downloading package stopwords to /root/nltk_data...\n",
            "[nltk_data]   Unzipping corpora/stopwords.zip.\n",
            "[nltk_data] Downloading package wordnet to /root/nltk_data...\n",
            "[nltk_data]   Unzipping corpora/wordnet.zip.\n"
          ]
        }
      ],
      "source": [
        "import re\n",
        "import nltk\n",
        "from nltk.corpus import stopwords\n",
        "from nltk.tokenize import word_tokenize\n",
        "nltk.download('punkt')\n",
        "nltk.download('stopwords')\n",
        "nltk.download('wordnet')\n",
        "from nltk.corpus import stopwords\n",
        "from nltk.stem import WordNetLemmatizer\n",
        "from nltk.stem import PorterStemmer"
      ]
    },
    {
      "cell_type": "code",
      "execution_count": null,
      "metadata": {
        "id": "YaunPOgl_I-k"
      },
      "outputs": [],
      "source": [
        "def preprocess(data):\n",
        "  for i in range(len(data)):\n",
        "    str = data[i]\n",
        "\n",
        "    re.compile('<title>(.*)</title>')\n",
        "    text = re.sub(r'[^\\w ]+', \"\",str)\n",
        "    \n",
        "    text = re.sub(r\"\\b[0-9]+\\b\\s*\", \" \", text)\n",
        "\n",
        "    #remove words containing numbers\n",
        "    text=re.sub(r\"[A-Za-z]+\\d+|\\d+[A-Za-z]+\",'',text).strip()\n",
        "\n",
        "    word_tokens = word_tokenize(text)\n",
        "    \n",
        "    stop_words = stopwords.words('english')\n",
        "    stw = [w for w in word_tokens if not w in stop_words]\n",
        "\n",
        "    lemmatizer = WordNetLemmatizer()\n",
        "    lemmatized_text = \"\"\n",
        "    for word in stw:\n",
        "        word = lemmatizer.lemmatize(word)\n",
        "\n",
        "    ps = PorterStemmer()\n",
        "    stemmed_text = \"\"\n",
        "    for word in stw:\n",
        "        stemmed_text = stemmed_text + \" \" + ps.stem(word).lower()\n",
        "        \n",
        "    docs[i] = stemmed_text\n",
        "    \n",
        "  #return docs"
      ]
    },
    {
      "cell_type": "code",
      "source": [
        "preprocess(docs)"
      ],
      "metadata": {
        "id": "IYegLl0lISEI"
      },
      "execution_count": null,
      "outputs": []
    },
    {
      "cell_type": "code",
      "execution_count": null,
      "metadata": {
        "id": "Ye_ticpPI0zJ"
      },
      "outputs": [],
      "source": [
        "def rem(data):\n",
        "  for i in range(len(data)):\n",
        "    str = data[i]\n",
        "    string = ''.join([i for i in str if not i.isdigit()])\n",
        "    docs[i]= string\n",
        "  #return docs"
      ]
    },
    {
      "cell_type": "code",
      "execution_count": null,
      "metadata": {
        "id": "Q2nyNZyXKkaj"
      },
      "outputs": [],
      "source": [
        "rem(docs)"
      ]
    },
    {
      "cell_type": "code",
      "execution_count": null,
      "metadata": {
        "id": "ITxxHzpYEbWT"
      },
      "outputs": [],
      "source": [
        "data_corpus= set()\n",
        "for row in docs:\n",
        "  for word in row.split(\" \"):\n",
        "    if word not in data_corpus:\n",
        "      data_corpus.add(word)\n",
        "\n",
        "data_corpus= sorted(data_corpus)"
      ]
    },
    {
      "cell_type": "code",
      "execution_count": null,
      "metadata": {
        "id": "Mfde4JVXFpJS"
      },
      "outputs": [],
      "source": [
        "data_corpus"
      ]
    },
    {
      "cell_type": "code",
      "source": [
        "res = len(data_corpus)\n",
        "print(res)"
      ],
      "metadata": {
        "colab": {
          "base_uri": "https://localhost:8080/"
        },
        "id": "bpTLVeW1A0p8",
        "outputId": "9151febe-ed46-4ebe-fcaa-0797e771b91b"
      },
      "execution_count": null,
      "outputs": [
        {
          "output_type": "stream",
          "name": "stdout",
          "text": [
            "272171\n"
          ]
        }
      ]
    },
    {
      "cell_type": "code",
      "source": [
        "index_based_encoding=[] \n",
        "for row in docs[0:2]: \n",
        "  row_encoding = [] \n",
        "  split = row.split(\" \") \n",
        "  for i in range (res): \n",
        "    if i <= len(split)-1:\n",
        "      row_encoding.append(data_corpus.index(split[i])+1) \n",
        "    else:\n",
        "        row_encoding.append(0) \n",
        "  index_based_encoding.append(row_encoding)"
      ],
      "metadata": {
        "id": "7i6kfvDLCUCp"
      },
      "execution_count": null,
      "outputs": []
    },
    {
      "cell_type": "code",
      "source": [
        "for row in docs[9:11]: \n",
        "  row_encoding = [] \n",
        "  split = row.split(\" \") \n",
        "  for i in range (res): \n",
        "    if i <= len(split)-1:\n",
        "      row_encoding.append(data_corpus.index(split[i])+1) \n",
        "    else:\n",
        "        row_encoding.append(0) \n",
        "  index_based_encoding.append(row_encoding)"
      ],
      "metadata": {
        "id": "rO11AcGvXqDh"
      },
      "execution_count": null,
      "outputs": []
    },
    {
      "cell_type": "code",
      "source": [
        "index_based_encoding[8]"
      ],
      "metadata": {
        "id": "SEeApMRuanCK"
      },
      "execution_count": null,
      "outputs": []
    },
    {
      "cell_type": "code",
      "source": [
        "index_based_encoding = np.array(index_based_encoding)"
      ],
      "metadata": {
        "id": "3gfUd5lNA328"
      },
      "execution_count": null,
      "outputs": []
    },
    {
      "cell_type": "code",
      "source": [
        "np.save('data_numpy', index_based_encoding)"
      ],
      "metadata": {
        "id": "SL98zEnVkdtG"
      },
      "execution_count": null,
      "outputs": []
    },
    {
      "cell_type": "code",
      "execution_count": null,
      "metadata": {
        "id": "SpUOEvBZJ9Ho"
      },
      "outputs": [],
      "source": [
        "import pandas as pd\n",
        "\n",
        "dict = {\"FileName\":docs_names, \"Data\": index_based_encoding}\n",
        "df = pd.DataFrame(dict) \n",
        "df.to_csv('dataset.csv') "
      ]
    },
    {
      "cell_type": "code",
      "execution_count": null,
      "metadata": {
        "id": "Yci7QjktVPtt",
        "colab": {
          "base_uri": "https://localhost:8080/"
        },
        "outputId": "4ede6a51-f6eb-4bc0-fa4b-8bdafdc398a3"
      },
      "outputs": [
        {
          "output_type": "stream",
          "name": "stdout",
          "text": [
            "(510, 272111)\n"
          ]
        }
      ],
      "source": [
        "vectorizer = TfidfVectorizer()\n",
        "\n",
        "X = vectorizer.fit_transform(docs)\n",
        "\n",
        "print(X.shape)"
      ]
    },
    {
      "cell_type": "code",
      "execution_count": null,
      "metadata": {
        "id": "HEdibxdaA2Kq"
      },
      "outputs": [],
      "source": [
        "Z = []\n",
        "for i in range(510):\n",
        "  Z.append(np.array(X[i]))\n",
        "  #X =  np.array(X)"
      ]
    },
    {
      "cell_type": "code",
      "source": [
        "Z=np.array(Z)"
      ],
      "metadata": {
        "colab": {
          "base_uri": "https://localhost:8080/"
        },
        "id": "8SaAbhwIr1ci",
        "outputId": "781a919e-e159-449d-eb56-af7b249312a5"
      },
      "execution_count": null,
      "outputs": [
        {
          "output_type": "execute_result",
          "data": {
            "text/plain": [
              "(510,)"
            ]
          },
          "metadata": {},
          "execution_count": 67
        }
      ]
    },
    {
      "cell_type": "code",
      "source": [
        "Z.shape"
      ],
      "metadata": {
        "colab": {
          "base_uri": "https://localhost:8080/"
        },
        "id": "fXSbhRgntUcz",
        "outputId": "fb8aa8de-e36e-471f-dad3-a4bf0868cadd"
      },
      "execution_count": null,
      "outputs": [
        {
          "output_type": "execute_result",
          "data": {
            "text/plain": [
              "(510,)"
            ]
          },
          "metadata": {},
          "execution_count": 68
        }
      ]
    }
  ],
  "metadata": {
    "colab": {
      "collapsed_sections": [],
      "name": "index_based_encoding.ipynb",
      "provenance": []
    },
    "kernelspec": {
      "display_name": "Python 3",
      "name": "python3"
    },
    "language_info": {
      "name": "python"
    },
    "accelerator": "TPU"
  },
  "nbformat": 4,
  "nbformat_minor": 0
}