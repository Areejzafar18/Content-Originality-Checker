{
  "cells": [
    {
      "cell_type": "code",
      "execution_count": null,
      "metadata": {
        "id": "dIarBbV2lK8W"
      },
      "outputs": [],
      "source": [
        "import itertools\n",
        "import numpy as np\n",
        "\n",
        "#a and b are two strings\n",
        "def matrix(a, b, match_score=3, gap_cost=2):\n",
        "    H = np.zeros((len(a) + 1, len(b) + 1), np.int)\n",
        "\n",
        "    for i, j in itertools.product(range(1, H.shape[0]), range(1, H.shape[1])):\n",
        "        match = H[i - 1, j - 1] + (match_score if a[i - 1] == b[j - 1] else - match_score)\n",
        "        delete = H[i - 1, j] - gap_cost\n",
        "        insert = H[i, j - 1] - gap_cost\n",
        "        H[i, j] = max(match, delete, insert, 0)\n",
        "    return H"
      ]
    },
    {
      "cell_type": "code",
      "execution_count": null,
      "metadata": {
        "id": "YQiTVjY3lT2j"
      },
      "outputs": [],
      "source": [
        "var = 0\n",
        "def traceback(H, b, b_='', old_i=0):\n",
        "    global var\n",
        "    # flip H to get index of **last** occurrence of H.max() with np.argmax()\n",
        "    H_flip = np.flip(np.flip(H, 0), 1)\n",
        "    i_, j_ = np.unravel_index(H_flip.argmax(), H_flip.shape)\n",
        "    # (i, j) are **last** indexes of H.max()\n",
        "    i, j = np.subtract(H.shape, (i_ + 1, j_ + 1))  \n",
        "    if H[i, j] == 0:\n",
        "        return b_, j\n",
        "    b_ = b[j - 1] + '-' + b_ if old_i - i > 1 else b[j - 1] + b_\n",
        "    var = var+1\n",
        "    return traceback(H[0:i, 0:j], b, b_, i)\n"
      ]
    },
    {
      "cell_type": "code",
      "execution_count": null,
      "metadata": {
        "id": "Ol6Vc5KqlVe8"
      },
      "outputs": [],
      "source": [
        "def smith_waterman(a, b, match_score=3, gap_cost=2):\n",
        "    a, b = a.upper(), b.upper()\n",
        "    H = matrix(a, b, match_score, gap_cost)\n",
        "    b_, pos = traceback(H, b)\n",
        "    return pos, pos + len(b_)"
      ]
    },
    {
      "cell_type": "code",
      "execution_count": null,
      "metadata": {
        "colab": {
          "base_uri": "https://localhost:8080/"
        },
        "id": "pcoYhjUAldL_",
        "outputId": "3039d307-031d-472b-d298-a6d7d2f687ce"
      },
      "outputs": [
        {
          "output_type": "stream",
          "name": "stdout",
          "text": [
            "('hisis-ed-oftext', 1)\n",
            "13\n",
            "thisisapieceoft\n"
          ]
        }
      ],
      "source": [
        "# prints correct scoring matrix example\n",
        "\n",
        "with open('/content/drive/MyDrive/Colab Notebooks/file1.txt') as f:\n",
        "    file1 = f.read()\n",
        "file1 = file1.replace(\" \",\"\")    \n",
        "\n",
        "with open('/content/drive/MyDrive/Colab Notebooks/file2.txt') as f:\n",
        "    file2 = f.read()\n",
        "file2 = file2.replace(\" \",\"\")\n",
        "\n",
        "a, b = file1, file2\n",
        "H = matrix(a, b)\n",
        "print(traceback(H, b)) # ('gtt-ac', 1)\n",
        "print (var)\n",
        "#a, b = 'GGTTGACTA', 'TGTTACGG'\n",
        "start, end = smith_waterman(a, b)\n",
        "print(a[start:end])     # GTTGAC"
      ]
    }
  ],
  "metadata": {
    "colab": {
      "collapsed_sections": [],
      "name": "SmithWaterman.ipynb",
      "provenance": []
    },
    "kernelspec": {
      "display_name": "Python 3",
      "language": "python",
      "name": "python3"
    },
    "language_info": {
      "codemirror_mode": {
        "name": "ipython",
        "version": 3
      },
      "file_extension": ".py",
      "mimetype": "text/x-python",
      "name": "python",
      "nbconvert_exporter": "python",
      "pygments_lexer": "ipython3",
      "version": "3.7.6"
    }
  },
  "nbformat": 4,
  "nbformat_minor": 0
}